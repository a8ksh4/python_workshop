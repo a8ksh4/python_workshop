{
 "cells": [
  {
   "cell_type": "markdown",
   "metadata": {},
   "source": [
    "# Section F - Microcontrollers\n",
    "\n",
    "Feedback: https://forms.gle/Le3RAsMEcYqEyswEA\n",
    "\n",
    "**Topics:** Programming microcontrollers with CircuitPython\n",
    "\n",
    "We'll look at circuitpython here - circuitpython is a version of micropython customized by Adafruit.  They have a ton of guides, libraries, etc available and circuitpython is the best place to start.  \n",
    "\n",
    "## Circuitpython vs. Micropython vs. Standard Python\n",
    "Regular/standard pything runs as software on windows, mac, linux, etc.  It interprets code and runs it, and includes libraries like sys, os, fsutil to interact with the operating system of the computer it's running on. \n",
    "\n",
    "Circuitpython and Micropython are firmware (the os) that you can load onto a microcontroller like a Pi Pico or a number of newer Arduino and other boards. These microcontroller boards have a small amount of storage for .py files and compiled libraries.\n",
    "\n",
    "Micropython offers some advanced features like multi-threading and has better/earlier hardware support for wifi, bluetooth, etc than Circuitpython, but it doesn't usually present a storage drive to drop code into directly.  \n",
    "\n",
    "Circuitpython has more user friendly documentation and libraries, always presents the micocontroller as a storage device, has better usb hid (keyboard, mouse, gamepad) support, and is generally easier to start with. \n",
    "\n",
    "Both micropython and circuitpython present a serial console when you plug them into a computer that can be used to interact with the python prompt and see the text output from running code.\n",
    "\n",
    "Micropython runs \"main.py\" when it starts, and circuitpython runs \"code.py\" when it starts.\n",
    "\n",
    "## Hardware test setup\n",
    "We'll practice on a pi pico microcontroller with a button, display, and accelerometer.  The pi pico has a built in LED we can blink.\n",
    "* Pi Pico: \n",
    "* SSD1306 OLED Display:\n",
    "* ADXL345 Accelerometer:\n",
    "\n",
    "## Getting Started\n",
    "Download and install the \"Mu\" editor.  There are other options, but mu just works - it knows where to look for code on the circuitpython microcontroller and has a button to open a serial terminal. https://codewith.mu/\n",
    "\n",
    "Flash micropython onto your microcontroller board.  If you have a new board, it will present a storage device called UF2 something when you plug it into the computer. If it doesn't, then hold the boot button on the board while you plug it into the computer and it should go into uf2 flash mode.\n",
    "\n",
    "**Download a uf2 file from circuitpython for your board**\n",
    "https://circuitpython.org/board/raspberry_pi_pico/\n",
    "https://circuitpython.org/board/raspberry_pi_pico_w/\n",
    "And **drag the file to the UF2 storage device presented by the board**.  It'll automatically flash and reboot when you drop the file on it and present a CIRCUITPY storage device where you can modify the code.py.\n",
    "\n",
    "**Open Mu, click the Load button, and find code.py on the CIRCUITPY drive**. Now you can modify it and each time you save a change, the board will reboot and run the code.  \n",
    "\n",
    "**Click the Serial button to see the serial console** for any print output, error messages, and for an interactive python prompt\n",
    "* You can always press <ctrl> + <c> in the serial terminal to quit the running code and get an interactive prompt \">>>\"\n",
    "* You can press <ctrl> + <d> at the prompt to reboot teh board and run code.py.\n",
    "\n",
    "## Basics\n",
    "\n",
    "### Built in modules\n",
    "https://docs.circuitpython.org/en/latest/shared-bindings/index.html\n",
    "\n",
    "There are a lot of built in modules... here are a few that \n",
    "* alarm\n",
    "* analogio\n",
    "* board - Analog and Digital Pins, Stemma I2C\n",
    "* busio - I2C, SPI, UART (serial)\n",
    "* digitalio\n",
    "* gc - Garbage Collection & memory management. gc.collect(), gc.mem_free, ...\n",
    "* time\n",
    "\n",
    "###"
   ]
  },
  {
   "cell_type": "code",
   "execution_count": null,
   "metadata": {},
   "outputs": [],
   "source": []
  },
  {
   "cell_type": "markdown",
   "metadata": {},
   "source": [
    "## I2C Devices\n",
    "https://learn.adafruit.com/circuitpython-essentials/circuitpython-i2c\n",
    "\n",
    "\n",
    "The first thing we want to do is initialize i2c and scan for devices to ensure that our hadware is connected to and communicating on the bus:"
   ]
  },
  {
   "cell_type": "code",
   "execution_count": null,
   "metadata": {},
   "outputs": [],
   "source": [
    "import board\n",
    "import busio\n",
    "\n",
    "i2c = busio.I2C(board.GP27, board.GP26)\n",
    "i2c.try_lock()\n",
    "print(i2c.scan())\n",
    "print([hex(addr) for addr in i2c.scan()])"
   ]
  },
  {
   "cell_type": "markdown",
   "metadata": {},
   "source": [
    "You should see something like this:  \n",
    "    [60, 83]\n",
    "    ['0x3c', '0x53']\n",
    "* 60 is the display - this is hex value 0x3c\n",
    "* 83 is the adxl345 - this is hex value 0x53\n",
    "\n"
   ]
  }
 ],
 "metadata": {
  "language_info": {
   "name": "python"
  }
 },
 "nbformat": 4,
 "nbformat_minor": 2
}
