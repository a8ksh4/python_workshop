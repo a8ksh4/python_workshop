{
 "cells": [
  {
   "cell_type": "markdown",
   "metadata": {},
   "source": [
    "# Section A1 - Built-in Operations\n",
    "\n",
    "Feedback: https://forms.gle/Le3RAsMEcYqEyswEA\n",
    "\n",
    "**Topics**: Python built-in functions for:\n",
    "* Mathematical Operations\n",
    "* Collection Functions\n",
    "  * Creation and manipulation\n",
    "  * \n",
    "\n",
    "There's a list of built-in functions here: https://docs.python.org/3/library/functions.html.  It's just an alphabetical list, and there's a lot there, so we'll try to break things into some useful categories here!\n",
    "\n",
    "## Mathematical Operations\n",
    "These are the basic mathematical functoins that are included in python without importing any libraries.\n",
    "\n",
    "* `pow()`: Returns a number raised to a power.\n",
    "* `round()`: Rounds a number to a specified precision.\n",
    "* `sum()`: Adds all items in an iterable.\n",
    "* `min()` and `max()`: Return the minimum and maximum values in an iterable.\n",
    "* `divmod()`: Returns the quotient and remainder of a division.\n",
    "\n",
    "There is no built in square root, but recall from math class that `sqrt(x)` is the same as `pow(x, 0.5)`, x to the 1/2 power.\n",
    "\n",
    "#### *Exercise*:\n",
    "Replace the ... in the following code cell using the above functions to perform the needed calculations.  Recall that the formula to calculate the hypotenuse length of a right triangle is the square root of (a squared plus b squared)."
   ]
  },
  {
   "cell_type": "code",
   "execution_count": null,
   "metadata": {},
   "outputs": [],
   "source": [
    "# \n",
    "some_numbers = [2, 5, 13, 4, 7, 22]\n",
    "sum_of_some_numbers = ...\n",
    "average_of_some_numbers = ...\n",
    "print(f'The sum and average of {some_numbers} are {sum_of_some_numbers} and {average_of_some_numbers}, respectively.')\n",
    "smallest_number = ...\n",
    "print(f'And the smallest number in the list is {smallest_number}.')\n",
    "\n",
    "# Calculate the length of the hypotenuse of a right triangle:\n",
    "side_a_len = 3\n",
    "side_b_len = 4\n",
    "hypotenuse_len = ...\n",
    "print(f'The hypotenuse of a right triangle with side lengths of {side_a_len} and {side_b_len} is {hypotenuse_len}.')"
   ]
  },
  {
   "cell_type": "markdown",
   "metadata": {},
   "source": [
    "## Collection Interaction Functions\n",
    "These groups are for creating and working with collections of things, including lists, sets, dictionaries, tuples, etc!\n",
    "\n",
    "### Collection Creation and Conversion\n",
    "We've seen many of these already.  Aside from range(), everythong on this list can initialize a collection of some type and/or type-cast an object to the given type:\n",
    "\n",
    "* `range()`: Generates a range of numbers. \n",
    "* `list()`: Creates or converts an iterable to a list.\n",
    "* `tuple()`: Creates or converts an iterable to a tuple.\n",
    "* `set()`: Creates or converts an iterable to a set.\n",
    "* `dict()`: Creates a dictionary.\n",
    "* `frozenset()`: Converts an iterable to an immutable set.\n",
    "* `bytes()`: Converts to bytes, often from a collection of integers.\n",
    "* `bytearray()`: Creates a mutable byte array from a collection.\n",
    "\n",
    "### Inspection and Ordering\n",
    "Some of these do exactly what you'd expect:\n",
    "* Max, min, and sum require your iterator to contain numeric types.  \n",
    "* Sorted and reverse sort and reverse the order of your collection.  \n",
    "* Any and all are especially interested when combined with list comprehinsions.  Examples below. \n",
    "* Enumerate and zip have examples below as well.\n",
    "\n",
    "And the functions:\n",
    "* `len()`: Returns the number of items in a collection.\n",
    "* `max()` and `min()`: Return the maximum and minimum values in a collection.\n",
    "* `sum()`: Adds all items in a collection of numbers.\n",
    "* `all()`: Checks if all elements in a collection evaluate as True.\n",
    "* `any()`: Checks if any element in a collection is evaluate as True.\n",
    "* `sorted()`: Returns a sorted list from the items in a collection.\n",
    "* `reversed()`: Returns a reversed iterator for a collection.  Fwiw, reversed(x) is equivelant to x[::-1] in many cases.\n",
    "* `enumerate()`: Adds an index to each item in a collection, useful for loops.\n",
    "* `zip()`: Aggregates elements from multiple collections into tuples, useful for creating dictoinaries.\n",
    "\n",
    "#### *Exercise*:\n",
    "* Try each of len, max, min, sum, sorted, reversed on the following 'some_numbers' list.  \n",
    "* Compute the average of some_numbers using len and sum:"
   ]
  },
  {
   "cell_type": "code",
   "execution_count": null,
   "metadata": {},
   "outputs": [],
   "source": [
    "some_numbers = [1, 5, 9, 2, 4, 8]\n",
    "print('some_numbers:', some_numbers)\n",
    "print('len of some_numbers:', ...)\n",
    "...\n",
    "print('average of some_numbers:', ...)"
   ]
  },
  {
   "cell_type": "markdown",
   "metadata": {},
   "source": [
    "**Example with any and all**:\n",
    "These both evaluate truthiness of items in the given collection, which can be useful for checking if any/all items in a collection are empty, zero, etc.  They can be even more useful when combined with generator expressions (like list comprehensions) to perform a specific evaluation on each element of a collection.  See below:"
   ]
  },
  {
   "cell_type": "code",
   "execution_count": null,
   "metadata": {},
   "outputs": [
    {
     "name": "stdout",
     "output_type": "stream",
     "text": [
      "all nonzero? False True\n",
      "any even? True False\n",
      "all odd? False True\n"
     ]
    }
   ],
   "source": [
    "numbers = [0, 2, 3, 4, 5]\n",
    "numbers2 = [1, 3, 5, 7]\n",
    "\n",
    "# Check if all numbers are non-zero\n",
    "all_nonzero = all(numbers)\n",
    "all_nonzero2 = all(numbers2)\n",
    "print('all nonzero?', all_nonzero, all_nonzero2)\n",
    "\n",
    "# Check if any numbers are even\n",
    "any_even = any(x % 2 == 0 for x in numbers)\n",
    "any_even2 = any(x % 2 == 0 for x in numbers2)\n",
    "print('any even?', any_even, any_even2)\n",
    "\n",
    "# Check if all numbers are odd\n",
    "all_odd = all(x % 2 == 1 for x in numbers)\n",
    "all_odd2 = all(x % 2 == 1 for x in numbers2)\n",
    "print('all odd?', all_odd, all_odd2)"
   ]
  },
  {
   "cell_type": "markdown",
   "metadata": {},
   "source": [
    "#### *Exercise*:\n",
    "We'll try a variation of the above using strings instead of numbers.  Using the list provided below, check the following conditions:\n",
    "* Are all items lower case?  Any items?\n",
    "* Are any items UPPER case?\n",
    "* Do all items have two words?\n",
    "* Are any items zero length?  Are all items non-zero length? Try these with and without generator expressions.\n"
   ]
  },
  {
   "cell_type": "code",
   "execution_count": null,
   "metadata": {},
   "outputs": [],
   "source": [
    "fruit = ['red apple', 'green bananna', 'CHERRY', 'orange orange', '']\n",
    "all_lower = ...\n",
    "any_upper = ...\n",
    "all_two_words = ...\n",
    "any_zero_len = ...\n",
    "#...\n",
    "print(\"The Fruit list values are:\")\n",
    "for description, value in (('all_lower', all_lower), \n",
    "                           ('any_upper', any_upper), \n",
    "                           ('all_two_words', all_two_words), \n",
    "                           ('any_zero_len', any_zero_len)):\n",
    "    print(f'{description}: {value}')\n",
    "\n"
   ]
  },
  {
   "cell_type": "markdown",
   "metadata": {},
   "source": [
    "These two are a little more complicated, but reasonably fall into the same category with sorted() and reversed(). \n",
    "\n",
    "\n",
    "**Enumerate** pairs each item in a a collection with a number indicating it's position in the collection and is very useful for for loops where you need to know the position of items that you iterate over. \n",
    "\n",
    "**Zip** takes two collections and pairs their elements into a new collection and is useful for, among other things, creating dictionaries.  \n",
    "\n",
    "An Example using both of these with some print statements to show the results of enumerate and zip, as well as how they're often used.  \n",
    "\n",
    "*Note that when we print the output of stuff like zip and enumerate, we wrap them in list() because they return a lazy-evaluating-iterator thing that doesn't print well otherwise. It's a python performance optimization thing.  Try removing the list() and see what you get.*"
   ]
  },
  {
   "cell_type": "code",
   "execution_count": null,
   "metadata": {},
   "outputs": [],
   "source": [
    "# Enumerate:\n",
    "some_stuff = ['apple', 'berry', 'car', 'cat']\n",
    "print('some_stuff:', some_stuff)\n",
    "print('some_stuff enumerated:', list(enumerate(some_stuff)))\n",
    "for n, thing in enumerate(some_stuff):\n",
    "    print(f'The position of {thing} in some_stuff is: {n}')\n",
    "\n",
    "# Zip:\n",
    "colors = ['red', 'green', 'blue', 'black']\n",
    "print('stuff zipped with colors:', list(zip(some_stuff, colors)))\n",
    "stuff_colors = dict(zip(some_stuff, colors))\n",
    "print('and as a dictoinary:', stuff_colors)\n",
    "print('The color of the cat is:', stuff_colors['cat'])"
   ]
  },
  {
   "cell_type": "markdown",
   "metadata": {},
   "source": [
    "## Iteration and Access Control:\n",
    "\n",
    "iter(): Returns an iterator for a collection.\n",
    "next(): Retrieves the next item from an iterator.\n",
    "slice(): Defines a slice, often used to access parts of collections.\n",
    "aiter() and anext(): Used for asynchronous iteration (for async generators)\n"
   ]
  },
  {
   "cell_type": "markdown",
   "metadata": {},
   "source": [
    "## Filtering and Transformation (Functional stuff)\n",
    "These functions are pretty special ...\n",
    "\n",
    "* `filter()`: Filters items in a collection based on a function.\n",
    "* `map()`: Applies a function to each item in a collection, returning an iterator.\n",
    "* `lambda`: "
   ]
  },
  {
   "cell_type": "markdown",
   "metadata": {},
   "source": [
    "\n",
    "\n",
    "\n",
    "\n",
    "\n"
   ]
  },
  {
   "cell_type": "code",
   "execution_count": null,
   "metadata": {},
   "outputs": [],
   "source": []
  },
  {
   "cell_type": "markdown",
   "metadata": {},
   "source": []
  },
  {
   "cell_type": "code",
   "execution_count": null,
   "metadata": {},
   "outputs": [],
   "source": []
  },
  {
   "cell_type": "markdown",
   "metadata": {},
   "source": []
  },
  {
   "cell_type": "markdown",
   "metadata": {},
   "source": [
    "## What else?"
   ]
  }
 ],
 "metadata": {
  "kernelspec": {
   "display_name": "venv",
   "language": "python",
   "name": "python3"
  },
  "language_info": {
   "codemirror_mode": {
    "name": "ipython",
    "version": 3
   },
   "file_extension": ".py",
   "mimetype": "text/x-python",
   "name": "python",
   "nbconvert_exporter": "python",
   "pygments_lexer": "ipython3",
   "version": "3.11.6"
  }
 },
 "nbformat": 4,
 "nbformat_minor": 2
}
