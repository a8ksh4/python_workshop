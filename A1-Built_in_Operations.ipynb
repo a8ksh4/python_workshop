{
 "cells": [
  {
   "cell_type": "markdown",
   "metadata": {},
   "source": [
    "# Section A1 - Built-in Operations\n",
    "\n",
    "Feedback: https://forms.gle/Le3RAsMEcYqEyswEA\n",
    "\n",
    "**Topics**: Python built-in functions for:\n",
    "* Collections\n",
    "* Math\n",
    "* ...\n",
    "\n",
    "There's a list of built-in functions here: https://docs.python.org/3/library/functions.html.  It's just an alphabetical list, and there's a lot there, so we'll try to break things into some useful categories here!\n",
    "\n",
    "## Collection Interaction Functions\n",
    "These groups are for creating and working with collections of things, including lists, sets, dictionaries, tuples, etc!\n",
    "\n",
    "### Collection Creation and Conversion\n",
    "We looked at the top few of these in the datatypes sections in the last notebook.  The bottom ones are more obscure...\n",
    "\n",
    "* `list()`: Creates or converts an iterable to a list.\n",
    "* `tuple()`: Creates or converts an iterable to a tuple.\n",
    "* `set()`: Creates or converts an iterable to a set.\n",
    "* `dict()`: Creates a dictionary.\n",
    "* `frozenset()`: Converts an iterable to an immutable set.\n",
    "* `bytes()`: Converts to bytes, often from a collection of integers.\n",
    "* `bytearray()`: Creates a mutable byte array from a collection.\n",
    "\n",
    "### Element Access and Inspection\n",
    "Most of these do exactly what you'd expect.  Max, min, and sum require your iterator to contain numeric types.  Sorted and reverse sort and reverse the order of your collection.  Enumerate and zip are a little more complicated. There are examples for them below the following exercise.\n",
    "\n",
    "* `len()`: Returns the number of items in a collection.\n",
    "* `max()` and `min()`: Return the maximum and minimum values in a collection.\n",
    "* `sum()`: Adds all items in a collection of numbers.\n",
    "* `sorted()`: Returns a sorted list from the items in a collection.\n",
    "* `reversed()`: Returns a reversed iterator for a collection.  Fwiw, reversed(x) is equivelant to x[::-1] in many cases.\n",
    "\n",
    "#### *Exercise*:\n",
    "* Try each of len, max, min, sum, sorted, reversed on the following 'some_numbers' list.  \n",
    "* Compute the average of some_numbers using len and sum:"
   ]
  },
  {
   "cell_type": "code",
   "execution_count": null,
   "metadata": {},
   "outputs": [],
   "source": [
    "some_numbers = [1, 5, 9, 2, 4, 8]\n",
    "print('some_numbers:', some_numbers)\n",
    "print('len of some_numbers:', ...)\n",
    "...\n",
    "print('average of some_numbers:', ...)"
   ]
  },
  {
   "cell_type": "markdown",
   "metadata": {},
   "source": [
    "These two are a little more complicated, but reasonably fall into the same category with sorted() and reversed(). \n",
    "\n",
    "* `enumerate()`: Adds an index to each item in a collection, useful for loops.\n",
    "* `zip()`: Aggregates elements from multiple collections into tuples.\n",
    "\n",
    "**Enumerate** pairs each item in a a collection with a number indicating it's position in the collection and is very useful for for loops where you need to know the position of items that you iterate over. \n",
    "\n",
    "**Zip** takes two collections and pairs their elements into a new collection and is useful for, among other things, creating dictionaries.  \n",
    "\n",
    "An Example using both of these:"
   ]
  },
  {
   "cell_type": "code",
   "execution_count": null,
   "metadata": {},
   "outputs": [],
   "source": [
    "# Enumerate:\n",
    "some_stuff = ['apple', 'berry', 'car', 'cat']\n",
    "print('some_stuff:', some_stuff)\n",
    "print('some_stuff enumerated:', list(enumerate(some_stuff)))\n",
    "for n, thing in enumerate(some_stuff):\n",
    "    print(f'The position of {thing} in some_stuff is: {n}')\n",
    "\n",
    "# Zip:\n",
    "colors = ['red', 'green', 'blue', 'black']\n",
    "print('stuff zipped with colors:', list(zip(some_stuff, colors)))\n",
    "stuff_colors = dict(zip(some_stuff, colors))\n",
    "print('and as a dictoinary:', stuff_colors)\n",
    "print('The color of the cat is:', stuff_colors['cat'])"
   ]
  },
  {
   "cell_type": "markdown",
   "metadata": {},
   "source": [
    "### Filtering and Transformation\n",
    "These are \n",
    "\n",
    "filter(): Filters items in a collection based on a function.\n",
    "map(): Applies a function to each item in a collection, returning an iterator."
   ]
  },
  {
   "cell_type": "markdown",
   "metadata": {},
   "source": [
    "\n",
    "\n",
    "Iteration and Access Control:\n",
    "\n",
    "all(): Checks if all elements in a collection are True.\n",
    "any(): Checks if any element in a collection is True.\n",
    "iter(): Returns an iterator for a collection.\n",
    "next(): Retrieves the next item from an iterator.\n",
    "range(): Generates a sequence of numbers, useful for collection indices.\n",
    "slice(): Defines a slice, often used to access parts of collections.\n",
    "\n",
    "\n",
    "\n",
    "## Iterator and Collection Operations\n",
    "Functions to create and work with iterators and iterable objects.\n",
    "\n",
    "iter(): Returns an iterator object.\n",
    "next(): Retrieves the next item from an iterator.\n",
    "enumerate(): Adds a counter to an iterable.\n",
    "zip(): Aggregates elements from multiple iterables.\n",
    "filter(): Filters elements in an iterable based on a function.\n",
    "map(): Applies a function to all items in an iterable.\n",
    "aiter() and anext(): Used for asynchronous iteration (for async generators).\n",
    "\n",
    "\n",
    "## Mathematical Operations\n",
    "* `pow()`: Returns a number raised to a power.\n",
    "* `round()`: Rounds a number to a specified precision.\n",
    "* `sum()`: Adds all items in an iterable.\n",
    "* `min()` and `max()`: Return the minimum and maximum values in an iterable.\n",
    "* `divmod()`: Returns the quotient and remainder of a division.\n",
    "\n",
    "There is no built in square root, but recall from math class that sqrt(x) is the same as pow(x, 0.5), x to the 1/2 power.\n",
    "A few examples:"
   ]
  },
  {
   "cell_type": "code",
   "execution_count": null,
   "metadata": {},
   "outputs": [],
   "source": []
  },
  {
   "cell_type": "markdown",
   "metadata": {},
   "source": []
  },
  {
   "cell_type": "code",
   "execution_count": null,
   "metadata": {},
   "outputs": [],
   "source": []
  },
  {
   "cell_type": "markdown",
   "metadata": {},
   "source": [
    "#### *Exercise*:\n"
   ]
  },
  {
   "cell_type": "code",
   "execution_count": null,
   "metadata": {},
   "outputs": [],
   "source": [
    "# \n",
    "some_numbers = [2, 5, 13, 4, 7, 22]\n",
    "sum_of_some_numbers = ...\n",
    "average_of_some_numbers = ...\n",
    "\n",
    "# Calculate the length of the hypotenuse of a right triangle:\n",
    "side_a_len = 3\n",
    "side_b_len = 4\n",
    "hypotenuse_len = ..."
   ]
  },
  {
   "cell_type": "markdown",
   "metadata": {},
   "source": [
    "## What else?"
   ]
  }
 ],
 "metadata": {
  "kernelspec": {
   "display_name": "venv",
   "language": "python",
   "name": "python3"
  },
  "language_info": {
   "codemirror_mode": {
    "name": "ipython",
    "version": 3
   },
   "file_extension": ".py",
   "mimetype": "text/x-python",
   "name": "python",
   "nbconvert_exporter": "python",
   "pygments_lexer": "ipython3",
   "version": "3.12.3"
  }
 },
 "nbformat": 4,
 "nbformat_minor": 2
}
