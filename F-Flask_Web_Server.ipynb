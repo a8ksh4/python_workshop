{
 "cells": [
  {
   "cell_type": "markdown",
   "metadata": {},
   "source": [
    "# Section F - Flask Web Server\n",
    "\n",
    "Feedback: https://forms.gle/Le3RAsMEcYqEyswEA\n",
    "\n",
    "Flask is a lightweight WSGI web application framework. It is designed to make getting started quick and easy, with the ability to scale up to complex applications.\n",
    "\n",
    "We'll make a simple web page mixing flask and dash to make a dashboard and render some cool graphs!  See the Plotly_Express notebook for some info on generating nice graphs.\n",
    "\n",
    "**Our Plan**:\n",
    "* We'll dive into Plotly Express to learn about how to make and customize plots\n",
    "* We'll look at a simple Dash app\n",
    "* And we'll make a more complex Dash app\n",
    "\n",
    "**References**:  \n",
    "* [Flask User Guide](https://flask.palletsprojects.com/en/stable/)\n",
    "\n",
    "## A Minimal First Flask Page:\n",
    "Put the following code into a python file and run it:"
   ]
  },
  {
   "cell_type": "code",
   "execution_count": null,
   "metadata": {},
   "outputs": [],
   "source": [
    "from flask import Flask\n",
    "\n",
    "app = Flask(__name__)\n",
    "\n",
    "@app.route(\"/\")\n",
    "def hello_world():\n",
    "    return \"<p>Hello, World!</p>\""
   ]
  },
  {
   "cell_type": "markdown",
   "metadata": {},
   "source": [
    "## Routing\n",
    "Using the route decorator lets us specify which function is used to generate a page at each URL path.  E.g. below for mypage.com/ and mypage.com/hello:\n",
    "\n",
    "    @app.route('/')\n",
    "    def index():\n",
    "        return 'Index Page'\n",
    "\n",
    "    @app.route('/hello')\n",
    "    def hello():\n",
    "        return 'Hello, World'\n",
    "\n",
    "\n",
    "## Templates\n",
    "We can create an html file with our page content and propagate each part of using labels like \"plot0_html\" and \"plot1_html\". Then use matching arguments in the render_template function in your script to pass in the needed code for each graph.\n",
    "\n",
    "Create ./templates/index.html with the following contents:\n",
    "\n",
    "    <!DOCTYPE html>\n",
    "    <html>\n",
    "    <head>\n",
    "        <title>Plotly Example</title>\n",
    "    </head>\n",
    "    <body>\n",
    "        <h1>Plotly Graph</h1>\n",
    "        {{ plot0_html | safe }}\n",
    "\n",
    "        <h1>Another Plotly Graph</h1>\n",
    "        {{ plot1_html | safe }}\n",
    "    </body>\n",
    "    </html>\n",
    "\n",
    "And a python script with the following code:"
   ]
  },
  {
   "cell_type": "code",
   "execution_count": null,
   "metadata": {},
   "outputs": [],
   "source": [
    "#!/usr/bin/env python3\n",
    "\n",
    "from flask import Flask, render_template\n",
    "import plotly.offline as pyo\n",
    "import plotly.graph_objs as go\n",
    "\n",
    "app = Flask(__name__)\n",
    "\n",
    "@app.route('/')\n",
    "def index():\n",
    "    # Create a Plotly figure\n",
    "    data0 = [go.Scatter(x=[1, 2, 3], y=[4, 2, 7])]\n",
    "    fig0 = go.Figure(data=data0)\n",
    "\n",
    "    data1 = [go.Line(x=[1, 2, 3], y=[4, 5, 7])]\n",
    "    fig1 = go.Figure(data=data1)\n",
    "\n",
    "    # Generate HTML representation of the plot\n",
    "    plot0_html = pyo.plot(fig0, output_type='div')\n",
    "    plot1_html = pyo.plot(fig1, output_type='div')\n",
    "\n",
    "    # Render the template with the plot\n",
    "    return render_template('index.html',\n",
    "                           plot0_html=plot0_html,\n",
    "                           plot1_html=plot1_html)\n",
    "\n",
    "if __name__ == '__main__':\n",
    "    app.run(debug=True)\n"
   ]
  },
  {
   "cell_type": "markdown",
   "metadata": {},
   "source": [
    "Run the script and open the printed URL with your browser and you should see two graphs.  "
   ]
  },
  {
   "cell_type": "markdown",
   "metadata": {},
   "source": []
  }
 ],
 "metadata": {
  "kernelspec": {
   "display_name": "venv",
   "language": "python",
   "name": "python3"
  },
  "language_info": {
   "name": "python",
   "version": "3.12.3"
  }
 },
 "nbformat": 4,
 "nbformat_minor": 2
}
