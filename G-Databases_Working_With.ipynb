{
 "cells": [
  {
   "cell_type": "markdown",
   "id": "2685a53c",
   "metadata": {},
   "source": [
    "# Section G - Working with Databasese\n",
    "\n",
    "Feedback: https://forms.gle/Le3RAsMEcYqEyswEA\n",
    "\n",
    "**Topics**:\n",
    "* Basics\n",
    "* Sqlite\n",
    "  * Pandas DB Functions\n",
    "* Create Table\n",
    "* Drop Table\n",
    "* Update Rows\n",
    "\n",
    "There are many types of database:  \n",
    "* SQl Flavors - Sqlite, MariaDB, PosgreSQL, MySQL, MS SQL, ...\n",
    "* NoSQL Flavors - Mongo DB, Elastic, Redis, ...\n",
    "\n",
    "**Why use databases?**\n",
    "* In a business enveronment, a database hosted on a server can be shared by multiple people with updates and queries happenning in parallel.  Databases are disigned to host and interacte with large volumes of data and can provide baked-in solutions like [ACID transactions](https://www.mongodb.com/resources/basics/databases/acid-transactions#what-are-acid-transactions).\n",
    "* You may need to save your own data when not working with it and storing it in sqlite is one of many ways to serialize it and save it in a file.  Pandas dataframes can contain datasets so large they cannot be exported as xlxs (or csv?) files.  \n",
    "\n",
    "## Basics\n",
    "To work with a database from python, we do a couple of things:\n",
    "* import database library\n",
    "* Create a connection to the database - this could be a file path for sqlite, or a server name with login and password for a hosted database like Postgres. \n",
    "* Create a cursor from the connection - The cursor is what we use to run commands, inserts, updates, queries and retreive results.  \n",
    "* Alternatively, pass the connection to a tool like pandas and let it generate queries/updates/inserts for you. \n",
    "\n",
    "A couple examples:\n",
    "\n",
    "**Sqlite**\n",
    "\n",
    "    import sqlite3\n",
    "    \n",
    "    with sqlite3.connect('example.db') as conn:\n",
    "        cursor = conn.cursor()\n",
    "        cursor.execute('SELECT name FROM sqlite_master WHERE type=\"table\";')\n",
    "        print(cursor.fetchall())\n",
    "\n",
    "**Postgres**\n",
    "\n",
    "    import psycopg2\n",
    "\n",
    "    with psycopg2.connect(\n",
    "        dbname=\"your_db\",\n",
    "        user=\"your_user\",\n",
    "        password=\"your_password\",\n",
    "        host=\"localhost\",\n",
    "        port=\"5432\"\n",
    "    ) as conn:\n",
    "        with conn.cursor() as cursor:\n",
    "            cursor.execute(\"SELECT * FROM your_table LIMIT 5;\")\n",
    "            print(cursor.fetchall())\n",
    "\n",
    "\n",
    "\n",
    "## Mathematical Operations\n",
    "These are the basic mathematical functoins that are included in python without importing any libraries."
   ]
  },
  {
   "cell_type": "code",
   "execution_count": 1,
   "id": "3afc46da",
   "metadata": {},
   "outputs": [
    {
     "name": "stdout",
     "output_type": "stream",
     "text": [
      "   sepal_length  sepal_width  petal_length  petal_width species\n",
      "0           5.1          3.5           1.4          0.2  setosa\n",
      "1           4.9          3.0           1.4          0.2  setosa\n",
      "2           4.7          3.2           1.3          0.2  setosa\n",
      "3           4.6          3.1           1.5          0.2  setosa\n",
      "4           5.0          3.6           1.4          0.2  setosa\n"
     ]
    }
   ],
   "source": [
    "import pandas as pd\n",
    "import sqlite3\n",
    "iris_web = pd.read_csv('https://raw.githubusercontent.com/mwaskom/seaborn-data/master/iris.csv')\n",
    "\n",
    "print(iris_web.head())\n",
    "\n",
    "# Save the DataFrame to a SQLite database\n",
    "with sqlite3.connect('iris_web.db') as conn:\n",
    "    iris_web.to_sql('iris', conn, if_exists='replace', index=False)\n"
   ]
  },
  {
   "cell_type": "code",
   "execution_count": 5,
   "id": "715d6f0d",
   "metadata": {},
   "outputs": [
    {
     "name": "stdout",
     "output_type": "stream",
     "text": [
      "   sepal_length  sepal_width  petal_length  petal_width species\n",
      "0           5.1          3.5           1.4          0.2  setosa\n",
      "1           4.9          3.0           1.4          0.2  setosa\n",
      "2           4.7          3.2           1.3          0.2  setosa\n",
      "3           4.6          3.1           1.5          0.2  setosa\n",
      "4           5.0          3.6           1.4          0.2  setosa\n"
     ]
    }
   ],
   "source": [
    "import pandas as pd\n",
    "\n",
    "with sqlite3.connect('iris_web.db') as conn:\n",
    "    query = \"SELECT * FROM iris\"\n",
    "    df = pd.read_sql_query(query, conn)\n",
    "\n",
    "print(df.head())\n",
    "\n",
    "# Without the \"with\" statemen:\n",
    "# conn = sqlite3.connect('your_database.db')\n",
    "# query = \"SELECT * FROM your_table\"\n",
    "# df = pd.read_sql_query(query, conn)\n",
    "# conn.close()"
   ]
  },
  {
   "cell_type": "code",
   "execution_count": null,
   "id": "7d5b02b1",
   "metadata": {},
   "outputs": [
    {
     "name": "stdout",
     "output_type": "stream",
     "text": [
      "(5.1, 3.5, 1.4, 0.2, 'setosa')\n",
      "(4.9, 3.0, 1.4, 0.2, 'setosa')\n",
      "(4.7, 3.2, 1.3, 0.2, 'setosa')\n",
      "(4.6, 3.1, 1.5, 0.2, 'setosa')\n",
      "(5.0, 3.6, 1.4, 0.2, 'setosa')\n",
      "(5.4, 3.9, 1.7, 0.4, 'setosa')\n",
      "(4.6, 3.4, 1.4, 0.3, 'setosa')\n",
      "(5.0, 3.4, 1.5, 0.2, 'setosa')\n",
      "(4.4, 2.9, 1.4, 0.2, 'setosa')\n",
      "(4.9, 3.1, 1.5, 0.1, 'setosa')\n"
     ]
    }
   ],
   "source": [
    "# Without pandas, query the database directly\n",
    "with sqlite3.connect('iris_web.db') as conn:\n",
    "    cursor = conn.cursor()\n",
    "    cursor.execute(\"SELECT * FROM iris\")\n",
    "    rows = cursor.fetchall()\n",
    "for row in rows[:10]:\n",
    "    print(row)"
   ]
  },
  {
   "cell_type": "code",
   "execution_count": 10,
   "id": "fa0e5146",
   "metadata": {},
   "outputs": [],
   "source": [
    "# Update 2nd row in the df and update it in the database\n",
    "df.loc[1, 'sepal_length'] = 99999\n",
    "df.head()\n",
    "\n",
    "with sqlite3.connect('iris_web.db') as conn:\n",
    "    df.to_sql('iris', conn, if_exists='replace', index=False)\n",
    "# Verify the update\n",
    "with sqlite3.connect('iris_web.db') as conn:\n",
    "    query = \"SELECT * FROM iris\"\n",
    "    updated_df = pd.read_sql_query(query, conn)"
   ]
  },
  {
   "cell_type": "code",
   "execution_count": null,
   "id": "9412e892",
   "metadata": {},
   "outputs": [],
   "source": []
  }
 ],
 "metadata": {
  "kernelspec": {
   "display_name": "venv",
   "language": "python",
   "name": "python3"
  },
  "language_info": {
   "codemirror_mode": {
    "name": "ipython",
    "version": 3
   },
   "file_extension": ".py",
   "mimetype": "text/x-python",
   "name": "python",
   "nbconvert_exporter": "python",
   "pygments_lexer": "ipython3",
   "version": "3.12.3"
  }
 },
 "nbformat": 4,
 "nbformat_minor": 5
}
