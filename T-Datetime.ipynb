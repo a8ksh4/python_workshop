{
 "cells": [
  {
   "cell_type": "markdown",
   "metadata": {},
   "source": [
    "# Section T - Datetime Module\n",
    "\n",
    "**Topics**:\n",
    "* The Datetime Module\n",
    "* Conversion To String\n",
    "* Conversion From String\n",
    "* Time Deltas\n",
    "* Timezone Conversions\n",
    "* Pandas Stuff\n",
    "* Epoch Time\n",
    "* Whate else?\n",
    "\n",
    "## The Datetime Module (Package?)\n",
    "There are a few useful objects bundled within the datetime module:\n",
    "\n",
    "    >>> import datetime as dtm\n",
    "    >>> dtm.\n",
    "    dtm.MAXYEAR        dtm.date(          dtm.time(          dtm.tzinfo(\n",
    "    dtm.MINYEAR        dtm.datetime(      dtm.timedelta(     \n",
    "    dtm.UTC            dtm.datetime_CAPI  dtm.timezone(      \n",
    "\n",
    "**datetime.datetime** is used to create datetime objects.  These objects encapsulate date and time to the microsecond?\n",
    "**datetime.timedelta** is an object used ti describe an increment of time."
   ]
  },
  {
   "cell_type": "code",
   "execution_count": 1,
   "metadata": {},
   "outputs": [
    {
     "name": "stdout",
     "output_type": "stream",
     "text": [
      "UTC+08:00\n"
     ]
    }
   ],
   "source": [
    "from datetime import datetime, timedelta, timezone\n",
    "\n",
    "# Today's date:\n",
    "now = datetime.now()\n",
    "\n",
    "# 24 hours from now:\n",
    "print(now + timedelta(hours=24))\n",
    "\n",
    "# 1 month time delta:\n",
    "\n",
    "# Demo of timezone:\n",
    "# Create a timezone for UTC+8:00\n",
    "tz_utc8 = timezone(timedelta(hours=8))\n",
    "print(tz_utc8)\n",
    "#\n"
   ]
  },
  {
   "cell_type": "markdown",
   "metadata": {},
   "source": [
    "## Time Deltas\n",
    "A time delta is a difference in time by some intervale.  We can create a timedelta object using datetime.timedelta, and add or subtract it from a datetime object.  This is particularly useful for incrementing dates or timestamps.\n",
    "\n",
    "    from datetime import timedelta\n",
    "    one_hour = timedelta(hours=1)\n",
    "\n",
    "These are the increments allowed for a time delta:\n",
    "\n",
    "    timedelta(days=0, seconds=0, microseconds=0, milliseconds=0, minutes=0, hours=0, weeks=0)\n",
    "\n",
    "\n"
   ]
  },
  {
   "cell_type": "code",
   "execution_count": null,
   "metadata": {},
   "outputs": [],
   "source": [
    "one_year = timedelta(days=365)\n",
    "one_hour = timedelta(hours=1)\n",
    "one_week = timedelta(weeks=1)"
   ]
  }
 ],
 "metadata": {
  "kernelspec": {
   "display_name": "venv",
   "language": "python",
   "name": "python3"
  },
  "language_info": {
   "codemirror_mode": {
    "name": "ipython",
    "version": 3
   },
   "file_extension": ".py",
   "mimetype": "text/x-python",
   "name": "python",
   "nbconvert_exporter": "python",
   "pygments_lexer": "ipython3",
   "version": "3.12.3"
  }
 },
 "nbformat": 4,
 "nbformat_minor": 2
}
