{
 "cells": [
  {
   "cell_type": "markdown",
   "metadata": {},
   "source": [
    "# Section D4 - Advanced Pandas\n",
    "\n",
    "Feedback: https://forms.gle/Le3RAsMEcYqEyswEA\n",
    "\n",
    "Topics:\n",
    "* Join and Concatenate\n",
    "* groupby\n",
    "* stack, unstack, pivot, ...\n",
    "\n",
    "## Join and Concatenate\n",
    "\n",
    "## Wide Format vs Long Format\n",
    "\n",
    "## stack, unstack, and pivot\n",
    "**Stack** - This function pivots the columns of a DataFrame into its index, effectively \"stacking\" the data vertically. It converts a DataFrame from a wide format to a long format.\n",
    "**Unstack** - This is the reverse of stack. It pivots the index of a DataFrame back into columns, converting it from a long format to a wide format.\n",
    "\n",
    "## where\n",
    "\n",
    "## interpolation\n",
    "\n",
    "## groupby\n",
    "\n"
   ]
  },
  {
   "cell_type": "code",
   "execution_count": null,
   "metadata": {},
   "outputs": [],
   "source": []
  }
 ],
 "metadata": {
  "language_info": {
   "name": "python"
  }
 },
 "nbformat": 4,
 "nbformat_minor": 2
}
