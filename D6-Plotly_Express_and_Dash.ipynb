{
 "cells": [
  {
   "cell_type": "markdown",
   "metadata": {},
   "source": [
    "# Section D6 - Plotly Express and Dash\n",
    "\n",
    "Feedback: https://forms.gle/Le3RAsMEcYqEyswEA\n",
    "\n",
    "Plotly is a graphing library, and Plotly Express is a wrapper for it that provides a consistent experience for making a wide variety of plots.  It's the recommended starting point for plotly.  If you run into a configuration that is'nt supported in express, then you can try using plotly directly..\n",
    "\n",
    "And Dash is a framework for making interactive visualizations using Plotly (Express).  It can pop up an interactive window, a browser tab, or inline graph inside your notebook with interactive elements.  Dash is also designed to build elements of larger web pages/dashboards for business/whatever. \n",
    "\n",
    "**Our Plan**:\n",
    "* We'll dive into Plotly Express to learn about how to make and customize plots\n",
    "* We'll look at a simple Dash app\n",
    "* And we'll make a more complex Dash app\n",
    "\n",
    "**References**:  \n",
    "* [Dash in Jupyter](https://dash.plotly.com/dash-in-jupyter)\n",
    "* [Plotly Tutorial](https://dash.plotly.com/tutorial)\n",
    "* [Python Decorators](https://peps.python.org/pep-0318/)\n",
    "* [Plotly Express](https://plotly.com/python/plotly-express/)\n",
    "\n",
    "## Anatomy of a simple Dash App:\n",
    "Let's go through tke example code from the https://dash.plotly.com/minimal-app.  The code is in the next cell.  Here's a sumarry:\n",
    "\n",
    "* import statements\n",
    "* read in a file as a pandas dataframe\n",
    "* initialize the app\n",
    "* define the **layout** - this is a list of elements to be shown - The **id** of these is used further down\n",
    "  * A heading\n",
    "  * A droptown menue with unique countries from our dataframe, including a default selection\n",
    "  * The graph we want to show\n",
    "* The **update_graph** function\n",
    "  * The **@callback** stuff above it is a *decorator* that lets us specify the inputs and outputs our function has.  \n",
    "    * These need to use the **id** from each item in our layout.  \n",
    "    * Each **Input** each generate an argument to be passed to our update_graph function.  \n",
    "    * The sequence of the arguments to update_graph matches the seqence that Inputs are listed in the decorator\n",
    "  * The code inside of the **update_graph** function handles any inputs (like drop down menus) and generates a graph.\n",
    "* app.run starts the app.  It calls update_graph once automaticaly, and ensures that update_graph gets called again when any of our inputs are interacted with.  E.g. if we change the country drop down selction, it gets called. The if __name__ line is a convention in scripts, but behaves the same in a notebook."
   ]
  },
  {
   "cell_type": "code",
   "execution_count": 5,
   "metadata": {},
   "outputs": [
    {
     "data": {
      "text/html": [
       "\n",
       "        <iframe\n",
       "            width=\"100%\"\n",
       "            height=\"650\"\n",
       "            src=\"http://127.0.0.1:8050/\"\n",
       "            frameborder=\"0\"\n",
       "            allowfullscreen\n",
       "            \n",
       "        ></iframe>\n",
       "        "
      ],
      "text/plain": [
       "<IPython.lib.display.IFrame at 0x7dcbf010fe30>"
      ]
     },
     "metadata": {},
     "output_type": "display_data"
    }
   ],
   "source": [
    "from dash import Dash, html, dcc, callback, Output, Input\n",
    "import plotly.express as px\n",
    "import pandas as pd\n",
    "\n",
    "df = pd.read_csv('https://raw.githubusercontent.com/plotly/datasets/master/gapminder_unfiltered.csv')\n",
    "\n",
    "app = Dash()\n",
    "\n",
    "app.layout = [\n",
    "    html.H1(children='Title of Dash App', style={'textAlign':'center'}),\n",
    "    dcc.Dropdown(df.country.unique(), 'Canada', id='dropdown-selection'),\n",
    "    dcc.Graph(id='graph-content')\n",
    "]\n",
    "\n",
    "@callback(\n",
    "    Output('graph-content', 'figure'),\n",
    "    Input('dropdown-selection', 'value')\n",
    ")\n",
    "def update_graph(value):\n",
    "    dff = df[df.country==value]\n",
    "    return px.line(dff, x='year', y='pop')\n",
    "\n",
    "if __name__ == '__main__':\n",
    "    app.run(debug=True)"
   ]
  },
  {
   "cell_type": "markdown",
   "metadata": {},
   "source": [
    "## Plotly Express"
   ]
  },
  {
   "cell_type": "code",
   "execution_count": null,
   "metadata": {},
   "outputs": [],
   "source": [
    "# %pip install dash\n",
    "\n",
    "from  dash import Dash, html, dcc, callback, Output, Input\n",
    "app = Dash(__name__)\n",
    "import plotly.express as px\n",
    "import pandas as pd"
   ]
  },
  {
   "cell_type": "markdown",
   "metadata": {},
   "source": [
    "We can set the display mode for the plots to one of:\n",
    "* \"external\" to pop up a window with the plot\n",
    "* \"tab\" to open a separate browser tab\n",
    "* \"jupyterlab\" to open the plot in line below the cell in the notebook"
   ]
  },
  {
   "cell_type": "code",
   "execution_count": 4,
   "metadata": {},
   "outputs": [],
   "source": [
    "app.run(jupyter_mode=\"jupyterlab\")"
   ]
  },
  {
   "cell_type": "markdown",
   "metadata": {},
   "source": [
    "Let's import the same data we used n the Pandas_Graphing notebook to play with here:"
   ]
  },
  {
   "cell_type": "code",
   "execution_count": 2,
   "metadata": {},
   "outputs": [
    {
     "name": "stdout",
     "output_type": "stream",
     "text": [
      "                     gage height ft  temperature C  \\\n",
      "datetime                                             \n",
      "2024-09-15 20:00:00            5.37           20.4   \n",
      "2024-09-15 20:15:00            5.58           20.4   \n",
      "2024-09-15 20:30:00            5.75           20.3   \n",
      "2024-09-15 20:45:00            5.99           20.3   \n",
      "2024-09-15 21:00:00            6.21           20.3   \n",
      "\n",
      "                     specific conductance uS/cm  dissolved oxygen mg/L   pH  \\\n",
      "datetime                                                                      \n",
      "2024-09-15 20:00:00                       159.0                    8.6  7.8   \n",
      "2024-09-15 20:15:00                       165.0                    8.6  7.8   \n",
      "2024-09-15 20:30:00                       165.0                    8.6  7.8   \n",
      "2024-09-15 20:45:00                       166.0                    8.6  7.8   \n",
      "2024-09-15 21:00:00                       166.0                    8.6  7.9   \n",
      "\n",
      "                     dom ug/L  salinity ppt  fchl mg/L  nitrate mg/L  \n",
      "datetime                                                              \n",
      "2024-09-15 20:00:00      14.7           0.1        NaN           NaN  \n",
      "2024-09-15 20:15:00      16.6           0.1        NaN           NaN  \n",
      "2024-09-15 20:30:00      16.5           0.1        NaN           NaN  \n",
      "2024-09-15 20:45:00      16.7           0.1        NaN           NaN  \n",
      "2024-09-15 21:00:00      16.7           0.1        NaN           NaN  \n"
     ]
    }
   ],
   "source": [
    "data_url = 'https://waterservices.usgs.gov/nwis/iv/?sites=11455485&startDT=2024-09-15T20:55:29.967-07:00&endDT=2024-10-15T20:55:29.967-07:00&format=rdb'\n",
    "tol_all= pd.read_csv(data_url, sep='\\t', comment='#', header=0)\n",
    "tol_all = tol_all.drop(tol_all.index[0])\n",
    "\n",
    "cols = {'datetime': 'datetime',\n",
    "        '288768_00065': 'gage height ft',\n",
    "        '288432_00010': 'temperature C',\n",
    "        '288434_00095': 'specific conductance uS/cm',\n",
    "        '291459_00300': 'dissolved oxygen mg/L',\n",
    "        '291463_00400': 'pH',\n",
    "        '304254_32295': 'dom ug/L',\n",
    "        '305297_90860': 'salinity ppt',\n",
    "        '291460_32316': 'fchl mg/L',  # chlorophyll\n",
    "        '313341_99133': 'nitrate mg/L'\n",
    "        } \n",
    "tol = tol_all[cols.keys()].rename(columns=cols)\n",
    "tol['datetime'] = pd.to_datetime(tol['datetime'])\n",
    "tol = tol.set_index('datetime')\n",
    "tol = tol.apply(pd.to_numeric, errors='coerce')\n",
    "print(tol.head())"
   ]
  },
  {
   "cell_type": "code",
   "execution_count": null,
   "metadata": {},
   "outputs": [],
   "source": []
  }
 ],
 "metadata": {
  "kernelspec": {
   "display_name": "venv",
   "language": "python",
   "name": "python3"
  },
  "language_info": {
   "codemirror_mode": {
    "name": "ipython",
    "version": 3
   },
   "file_extension": ".py",
   "mimetype": "text/x-python",
   "name": "python",
   "nbconvert_exporter": "python",
   "pygments_lexer": "ipython3",
   "version": "3.12.3"
  }
 },
 "nbformat": 4,
 "nbformat_minor": 2
}
