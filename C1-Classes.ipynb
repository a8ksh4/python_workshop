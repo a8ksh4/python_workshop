{
 "cells": [
  {
   "cell_type": "markdown",
   "metadata": {},
   "source": [
    "# Section C1 - Classes\n",
    "\n",
    "Feedback: https://forms.gle/Le3RAsMEcYqEyswEA\n",
    "\n",
    "**Topics**: Introducing classes.\n",
    "\n",
    "## Classes\n",
    "Everything in python is an object, and creating a class is how we define a new type object.  We can encapsulate any behavior and data into a class that we want, and classes can inherit other classes in order to expand on their functionality. \n",
    "\n",
    "This is a classic example.  We are at a school and need to keep records of people at the school.  There are properties that all people have and properties that only specific people, students, teachers, administrators, will have.  So weu can create a generic people class and inherit that into separate student and teacher classes.  "
   ]
  },
  {
   "cell_type": "code",
   "execution_count": null,
   "metadata": {},
   "outputs": [],
   "source": [
    "class Person:\n",
    "    def __init__(self, name, age):\n",
    "        self.name = name\n",
    "        self.age = age\n",
    "\n",
    "    def introduce(self):\n",
    "        return f\"Hi, I'm {self.name} and I'm {self.age} years old.\""
   ]
  },
  {
   "cell_type": "markdown",
   "metadata": {},
   "source": [
    "And we can extend the person class into separate Student and Teacher classes:"
   ]
  },
  {
   "cell_type": "code",
   "execution_count": null,
   "metadata": {},
   "outputs": [],
   "source": [
    "class Student(Person):\n",
    "    def __init__(self, name, age, grade):\n",
    "        super().__init__(name, age)  # Call the parent constructor\n",
    "        self.grade = grade\n",
    "\n",
    "    def introduce(self):\n",
    "        return f\"Hi, I'm {self.name}, a student in grade {self.grade}.\""
   ]
  },
  {
   "cell_type": "code",
   "execution_count": null,
   "metadata": {},
   "outputs": [],
   "source": [
    "class Teacher(Person):\n",
    "    def __init__(self, name, age, subject):\n",
    "        super().__init__(name, age)\n",
    "        self.subject = subject\n",
    "\n",
    "    def introduce(self):\n",
    "        return f\"Hello, I'm {self.name}, and I teach {self.subject}.\""
   ]
  },
  {
   "cell_type": "markdown",
   "metadata": {},
   "source": [
    "And using them to create new objects:"
   ]
  },
  {
   "cell_type": "code",
   "execution_count": null,
   "metadata": {},
   "outputs": [],
   "source": [
    "# Creating objects\n",
    "s1 = Student(\"Alice\", 14, \"8th\")\n",
    "t1 = Teacher(\"Mr. Smith\", 40, \"Math\")\n",
    "\n",
    "# Calling methods\n",
    "print(s1.introduce())  # Output: Hi, I'm Alice, a student in grade 8th.\n",
    "print(t1.introduce())  # Output: Hello, I'm Mr. Smith, and I teach Math."
   ]
  },
  {
   "cell_type": "markdown",
   "metadata": {},
   "source": [
    "### Data validation/consistency\n",
    "In the __init__ function, we have the opportunity to look at the values being passed in and raise an error if they don't meet our criteria.  For example, we might want to make sure the name passd in is:\n",
    "\n",
    "* a string\n",
    "* at least two words long (first and last name)\n",
    "\n",
    "And we might want to capitalize it automatically for consistency.  \n",
    "\n",
    "**Exercise** "
   ]
  }
 ],
 "metadata": {
  "kernelspec": {
   "display_name": "venv",
   "language": "python",
   "name": "python3"
  },
  "language_info": {
   "name": "python",
   "version": "3.11.6"
  }
 },
 "nbformat": 4,
 "nbformat_minor": 2
}
