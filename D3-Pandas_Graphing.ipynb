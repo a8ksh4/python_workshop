{
 "cells": [
  {
   "cell_type": "markdown",
   "metadata": {},
   "source": [
    "# Section D3 - Graphing with Pandas (and Matplotlib)\n",
    "\n",
    "Feedback: https://forms.gle/Le3RAsMEcYqEyswEA\n",
    "\n",
    "We'll go through a few types of graphs here!\n",
    "\n",
    "## Time series\n",
    "\n",
    "## Multi Axis\n",
    "\n",
    "## Scatter Plot\n",
    "\n",
    "## Box and Whisker Plot\n",
    "\n",
    "## Histogram\n",
    "\n",
    "## Heatmap\n",
    "\n",
    "## Multiple Plots"
   ]
  },
  {
   "cell_type": "markdown",
   "metadata": {},
   "source": []
  },
  {
   "cell_type": "code",
   "execution_count": null,
   "metadata": {},
   "outputs": [],
   "source": [
    "import pandas as pd\n",
    "data_url = 'https://waterservices.usgs.gov/nwis/iv/?sites=11455485&startDT=2024-03-15T20:55:29.967-07:00&endDT=2024-10-15T20:55:29.967-07:00&format=rdb'\n",
    "tol = pd.read_csv(data_url, sep='\\t', comment='#', header=0)\n",
    "tol.drop(tol.index[0], inplace=True)\n",
    "print(tol)\n",
    "# regression/scatter of specific conductivity and salinity\n",
    "# time series with nitrate and chlorophyll; ph,do and chlorophyll...\n",
    "# Boxplot of daily temperature"
   ]
  },
  {
   "cell_type": "code",
   "execution_count": null,
   "metadata": {},
   "outputs": [],
   "source": []
  },
  {
   "cell_type": "code",
   "execution_count": null,
   "metadata": {},
   "outputs": [],
   "source": []
  }
 ],
 "metadata": {
  "kernelspec": {
   "display_name": "venv",
   "language": "python",
   "name": "python3"
  },
  "language_info": {
   "codemirror_mode": {
    "name": "ipython",
    "version": 3
   },
   "file_extension": ".py",
   "mimetype": "text/x-python",
   "name": "python",
   "nbconvert_exporter": "python",
   "pygments_lexer": "ipython3",
   "version": "3.12.3"
  }
 },
 "nbformat": 4,
 "nbformat_minor": 2
}
