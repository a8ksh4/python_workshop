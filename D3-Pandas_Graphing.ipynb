{
 "cells": [
  {
   "cell_type": "markdown",
   "metadata": {},
   "source": [
    "# Section D3 - Graphing with Pandas (and Matplotlib)\n",
    "\n",
    "Feedback: https://forms.gle/Le3RAsMEcYqEyswEA\n",
    "\n",
    "We'll go through a few types of graphs here!\n",
    "\n",
    "## Time series\n",
    "\n",
    "## Multi Axis\n",
    "\n",
    "## Scatter Plot\n",
    "\n",
    "## Box and Whisker Plot\n",
    "\n",
    "## Histogram\n",
    "\n",
    "## Heatmap\n",
    "\n",
    "## Multiple Plots"
   ]
  },
  {
   "cell_type": "markdown",
   "metadata": {},
   "source": []
  },
  {
   "cell_type": "code",
   "execution_count": null,
   "metadata": {},
   "outputs": [],
   "source": []
  },
  {
   "cell_type": "code",
   "execution_count": null,
   "metadata": {},
   "outputs": [],
   "source": []
  }
 ],
 "metadata": {
  "language_info": {
   "name": "python"
  }
 },
 "nbformat": 4,
 "nbformat_minor": 2
}
