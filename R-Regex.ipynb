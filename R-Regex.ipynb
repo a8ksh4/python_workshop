{
 "cells": [
  {
   "cell_type": "markdown",
   "id": "c48fc4fb",
   "metadata": {},
   "source": [
    "# Section R - Regex\n",
    "\n",
    "Regex is a text matching language that can be used with python\n",
    "* Advanced pattern matching when looking for a fixed set of characters won't help\n",
    "* Matching repeating groups with specific permutations\n",
    "* Matching sub-groups of patterns in a string\n",
    "* Input validation - use regex to facilitate pass-lists of options/input\n",
    "  * email address validation\n",
    "  * phone number validation\n",
    "  * ...\n",
    "* Advanced text replacement.\n",
    "\n",
    "Resources for learning:\n",
    "* http://regex101.com – live testing with explanation\n",
    "* http://pythex.org – Python-flavored regex testing\n",
    "\n",
    "Let's do an email input validation example:"
   ]
  },
  {
   "cell_type": "code",
   "execution_count": null,
   "id": "79184851",
   "metadata": {},
   "outputs": [
    {
     "name": "stderr",
     "output_type": "stream",
     "text": [
      "<>:3: SyntaxWarning: invalid escape sequence '\\-'\n",
      "<>:3: SyntaxWarning: invalid escape sequence '\\-'\n",
      "/tmp/ipykernel_1063836/1384070319.py:3: SyntaxWarning: invalid escape sequence '\\-'\n",
      "  valid_email = '[a-zA-Z0-9_\\-\\.]+\\.[a-zA-Z0-9\\-]+\\.(com|org|net|us|cn)'\n"
     ]
    },
    {
     "name": "stdout",
     "output_type": "stream",
     "text": [
      "What's your email address?\n"
     ]
    }
   ],
   "source": [
    "import re\n",
    "\n",
    "valid_email = r'[a-zA-Z0-9_\\-.]+@[a-zA-Z0-9\\-]+.(com|org)'\n",
    "print(\"What's your email address?\")\n",
    "email = input()\n",
    "print(\"You entered:\", email)\n",
    "if re.match(valid_email, email):\n",
    "    print(\"This is a valid email address!\")\n",
    "else:\n",
    "    print(\"This is NOT a valid email address!\")\n"
   ]
  },
  {
   "cell_type": "markdown",
   "id": "9c2e04ba",
   "metadata": {},
   "source": [
    "## Example regex patterns/characters\n",
    "Regex uses special characters or patterns to match types of characters, whitespace, boundaries, and groups.\n",
    "\n",
    "```\n",
    "Pattern\t    Meaning                         Example Match  \n",
    ".           Any character except newline    a.b → acb, a7b  \n",
    "^ / $\t    Start / end of line             ^Hi matches lines starting with \"Hi\"  \n",
    "\\d / \\w\t    Digit / Word char               \\d = 0–9, \\w = a–z, A–Z, _  \n",
    "\\s          Whitespace (space, tab, etc.)\t\n",
    "+, *, ?\t    1+ / 0+ / 0 or 1 repeats        a+, a*, a?  \n",
    "{n} / {m,n} Exactly n / Between m and n     \\d{4} → 4 digits  \n",
    "[abc]\t    a, b, or c                      gr[ae]y → gray, grey  \n",
    "[^abc]\t    Not a, b, or c\n",
    "( )         Grouping\n",
    "```"
   ]
  },
  {
   "cell_type": "code",
   "execution_count": null,
   "id": "2b90e4b2",
   "metadata": {},
   "outputs": [
    {
     "name": "stdout",
     "output_type": "stream",
     "text": [
      "hello\n"
     ]
    }
   ],
   "source": [
    "# Search for a pattern in a string\n",
    "m = re.search(r'\\d+', 'There are 15 cats')\n",
    "print(m.group())  # '15'\n",
    "\n",
    "# Find all occurrences of a pattern in a string\n",
    "nums = re.findall(r'\\d+', 'There are 15 cats and 7 dogs')\n",
    "print(nums)  # ['15', '7']\n",
    "\n",
    "# Substitute a pattern in a string\n",
    "clean = re.sub(r'\\s+', ' ', 'Too     many   spaces')\n",
    "print(clean)  # 'Too many spaces'\n",
    "\n",
    "# Grouping data to pick out specific parts\n",
    "m = re.match(r'(\\w+): (\\d+)', 'Age: 30')\n",
    "print(m.group(1))  # 'Age'\n",
    "print(m.group(2))  # '30'\n",
    "\n",
    "# Using flags to modify regex behavior\n",
    "re.findall(r'dog', 'Dog DOG dog', flags=re.IGNORECASE)\n",
    "# ['Dog', 'DOG', 'dog']"
   ]
  },
  {
   "cell_type": "markdown",
   "id": "de24bfee",
   "metadata": {},
   "source": [
    "## Problem Set\n",
    "It can help to copy the text to the regex101 site and play with regex there to get things to match and then move the working regex to your code here."
   ]
  },
  {
   "cell_type": "code",
   "execution_count": null,
   "id": "ec3b252e",
   "metadata": {},
   "outputs": [],
   "source": [
    "# Extract All Numbers From a String\n",
    "text = \"In 2023, there were 150 cats and 30 dogs.\"\n",
    "\n",
    "# your solution here\n",
    "# hint \\d+\n",
    "\n",
    "print(\"The numbers are:\", all_numbers)\n",
    "if set(all_numbers) == {'2023', '150', '30'}:\n",
    "    print(\"All numbers extracted correctly!\")"
   ]
  },
  {
   "cell_type": "code",
   "execution_count": null,
   "id": "e65cc4fe",
   "metadata": {},
   "outputs": [],
   "source": [
    "# Extract All Words Starting with a Capital Letter\n",
    "text = \"Alice went to Wonderland with Bob and Charlie.\"\n",
    "\n",
    "# your solution here\n",
    "# hint \\b[A-Z][a-z]*\\b\n",
    "\n",
    "print(\"The capitalized words are:\", capitalized_words)\n",
    "if set(capitalized_words) == {'Alice', 'Bob', 'Charlie', 'Wonderland'}:\n",
    "    print(\"All capitalized words extracted correctly!\")"
   ]
  },
  {
   "cell_type": "code",
   "execution_count": null,
   "id": "e05aafe2",
   "metadata": {},
   "outputs": [],
   "source": [
    "# Find all words ending with 'ing'\n",
    "text = \"I am singing while walking and then running.\"\n",
    "\n",
    "# your solution here\n",
    "# hint \\b\\w+ing\\b\n",
    "\n",
    "print(\"The words ending with 'ing' are:\", ing_words)\n",
    "if set(ing_words) == {'singing', 'walking', 'running'}:\n",
    "    print(\"All 'ing' words extracted correctly!\")"
   ]
  },
  {
   "cell_type": "code",
   "execution_count": null,
   "id": "b45f29ae",
   "metadata": {},
   "outputs": [],
   "source": [
    "# Replace all dashes with underscores\n",
    "text = \"this-is_some-kind_of-text\"\n",
    "\n",
    "# your solution here\n",
    "# hint re.sub\n",
    "\n",
    "print(\"The modified text is:\", modified_text)\n",
    "if modified_text == \"this_is_some_kind_of_text\":\n",
    "    print(\"Dashes replaced with underscores correctly!\")"
   ]
  },
  {
   "cell_type": "code",
   "execution_count": null,
   "id": "e480a88d",
   "metadata": {},
   "outputs": [],
   "source": [
    "# Validate US zip codes\n",
    "codes = [\"12345\", \"9876\", \"123456\"]\n",
    "\n",
    "# your solution here\n",
    "\n",
    "print(\"Valid zip codes are:\", valid_zip_codes)\n",
    "if set(valid_zip_codes) == {'12345'}:\n",
    "    print(\"All valid zip codes extracted correctly!\")"
   ]
  },
  {
   "cell_type": "code",
   "execution_count": null,
   "id": "dd17ef9f",
   "metadata": {},
   "outputs": [],
   "source": [
    "# Use regex to pick the email addresses out from the following text\n",
    "text = \"Contact me at test@example.com or foo.bar99@domain.co\"\n",
    "\n",
    "# your soultion here\n",
    "\n",
    "print(\"The emails are:\", emails)"
   ]
  },
  {
   "cell_type": "code",
   "execution_count": null,
   "id": "0f5e0ff6",
   "metadata": {},
   "outputs": [],
   "source": [
    "# Replace dates like MM/DD/YYYY with YYYY-MM-DD.\n",
    "dates = (\"01/15/2020, 12/31/2019, 07/04/2021\")\n",
    "\n",
    "# your solution here\n",
    "\n",
    "print(\"The reformatted dates are:\", reformatted_dates)\n",
    "if set(reformatted_dates) == {'2020-01-15', '2019-12-31', '2021-07-04'}:\n",
    "    print(\"The dates were reformatted correctly!\")"
   ]
  }
 ],
 "metadata": {
  "kernelspec": {
   "display_name": "venv",
   "language": "python",
   "name": "python3"
  },
  "language_info": {
   "codemirror_mode": {
    "name": "ipython",
    "version": 3
   },
   "file_extension": ".py",
   "mimetype": "text/x-python",
   "name": "python",
   "nbconvert_exporter": "python",
   "pygments_lexer": "ipython3",
   "version": "3.12.3"
  }
 },
 "nbformat": 4,
 "nbformat_minor": 5
}
