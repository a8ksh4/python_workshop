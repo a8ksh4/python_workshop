{
 "cells": [
  {
   "cell_type": "markdown",
   "metadata": {},
   "source": [
    "# Section G - Web Scraping\n",
    "\n",
    "Feedback: https://forms.gle/Le3RAsMEcYqEyswEA\n",
    "\n",
    "\n",
    "Scraping modules\n",
    "Javascript or no javascript\n",
    "Navigating a page\n",
    "Interaction - clicking elements or entering text data\n"
   ]
  },
  {
   "cell_type": "code",
   "execution_count": 17,
   "metadata": {},
   "outputs": [
    {
     "name": "stdout",
     "output_type": "stream",
     "text": [
      "['ASCII_SPACES', 'DEFAULT_BUILDER_FEATURES', 'DEFAULT_INTERESTING_STRING_TYPES', 'EMPTY_ELEMENT_EVENT', 'END_ELEMENT_EVENT', 'NO_PARSER_SPECIFIED_WARNING', 'ROOT_TAG_NAME', 'START_ELEMENT_EVENT', 'STRING_ELEMENT_EVENT', '__bool__', '__call__', '__class__', '__contains__', '__copy__', '__deepcopy__', '__delattr__', '__delitem__', '__dict__', '__dir__', '__doc__', '__eq__', '__format__', '__ge__', '__getattr__', '__getattribute__', '__getitem__', '__getstate__', '__gt__', '__hash__', '__init__', '__init_subclass__', '__iter__', '__le__', '__len__', '__lt__', '__module__', '__ne__', '__new__', '__reduce__', '__reduce_ex__', '__repr__', '__setattr__', '__setitem__', '__setstate__', '__sizeof__', '__str__', '__subclasshook__', '__unicode__', '__weakref__', '_all_strings', '_clone', '_decode_markup', '_event_stream', '_feed', '_find_all', '_find_one', '_format_tag', '_indent_string', '_is_xml', '_lastRecursiveChild', '_last_descendant', '_linkage_fixer', '_markup_is_url', '_markup_resembles_filename', '_most_recent_element', '_namespaces', '_popToTag', '_should_pretty_print', 'append', 'attrs', 'builder', 'can_be_empty_element', 'cdata_list_attributes', 'childGenerator', 'children', 'clear', 'contains_replacement_characters', 'contents', 'css', 'currentTag', 'current_data', 'declared_html_encoding', 'decode', 'decode_contents', 'decompose', 'decomposed', 'default', 'descendants', 'element_classes', 'encode', 'encode_contents', 'endData', 'extend', 'extract', 'fetchNextSiblings', 'fetchParents', 'fetchPrevious', 'fetchPreviousSiblings', 'find', 'findAll', 'findAllNext', 'findAllPrevious', 'findChild', 'findChildren', 'findNext', 'findNextSibling', 'findNextSiblings', 'findParent', 'findParents', 'findPrevious', 'findPreviousSibling', 'findPreviousSiblings', 'find_all', 'find_all_next', 'find_all_previous', 'find_next', 'find_next_sibling', 'find_next_siblings', 'find_parent', 'find_parents', 'find_previous', 'find_previous_sibling', 'find_previous_siblings', 'format_string', 'formatter_for_name', 'get', 'getText', 'get_attribute_list', 'get_text', 'handle_data', 'handle_endtag', 'handle_starttag', 'has_attr', 'has_key', 'hidden', 'index', 'insert', 'insert_after', 'insert_before', 'interesting_string_types', 'isSelfClosing', 'is_empty_element', 'is_xml', 'known_xml', 'markup', 'name', 'namespace', 'new_string', 'new_tag', 'next', 'nextGenerator', 'nextSibling', 'nextSiblingGenerator', 'next_element', 'next_elements', 'next_sibling', 'next_siblings', 'object_was_parsed', 'open_tag_counter', 'original_encoding', 'parent', 'parentGenerator', 'parents', 'parse_only', 'parserClass', 'parser_class', 'popTag', 'prefix', 'preserve_whitespace_tag_stack', 'preserve_whitespace_tags', 'prettify', 'previous', 'previousGenerator', 'previousSibling', 'previousSiblingGenerator', 'previous_element', 'previous_elements', 'previous_sibling', 'previous_siblings', 'pushTag', 'recursiveChildGenerator', 'renderContents', 'replaceWith', 'replaceWithChildren', 'replace_with', 'replace_with_children', 'reset', 'select', 'select_one', 'self_and_descendants', 'setup', 'smooth', 'string', 'string_container', 'string_container_stack', 'strings', 'stripped_strings', 'tagStack', 'text', 'unwrap', 'wrap']\n",
      "<title>Python (programming language) - Wikipedia</title>\n"
     ]
    }
   ],
   "source": [
    "from bs4 import BeautifulSoup\n",
    "from urllib.request import urlopen\n",
    "\n",
    "# url = \"http://wikipedia.org\"\n",
    "url = \"https://en.wikipedia.org/wiki/Python_(programming_language)\"\n",
    "page = urlopen(url)\n",
    "html = page.read().decode('utf-8')\n",
    "soup = BeautifulSoup(html, 'html.parser')\n",
    "# print(soup.get_text())\n",
    "print(dir(soup))\n",
    "print(soup.title)\n",
    "# print(soup.body.get_text())\n",
    "# xpath = '//*[@id=\"mw-content-text\"]/div[1]/p[2]'\n",
    "xpath = '/html/body/div[2]/div/div[3]/main/div[3]/div[3]/div[1]/p[2]'\n",
    "# print(soup.select_one(xpath).get_text())"
   ]
  },
  {
   "cell_type": "code",
   "execution_count": 24,
   "metadata": {},
   "outputs": [],
   "source": [
    "# %pip install lxml\n",
    "\n",
    "try:\n",
    "    # Python 2\n",
    "    from urllib2 import urlopen\n",
    "except ImportError:\n",
    "    from urllib.request import urlopen\n",
    "from lxml import etree\n",
    "\n",
    "response = urlopen(url)\n"
   ]
  },
  {
   "cell_type": "code",
   "execution_count": 25,
   "metadata": {},
   "outputs": [
    {
     "name": "stdout",
     "output_type": "stream",
     "text": [
      "None\n"
     ]
    }
   ],
   "source": [
    "htmlparser = etree.HTMLParser()\n",
    "tree = etree.parse(response, htmlparser)\n",
    "section = tree.xpath(xpath)\n",
    "for item in section:\n",
    "    print(item.text)"
   ]
  },
  {
   "cell_type": "code",
   "execution_count": null,
   "metadata": {},
   "outputs": [],
   "source": []
  },
  {
   "cell_type": "markdown",
   "metadata": {},
   "source": [
    "\n",
    "Following along with:\n",
    "https://zperzan.github.io/projects/scrape-weather-underground/\n",
    "Requires chromedriver from https://googlechromelabs.github.io/chrome-for-testing/\n",
    "* set it in the chromedriver_path variable once installed."
   ]
  },
  {
   "cell_type": "code",
   "execution_count": null,
   "metadata": {},
   "outputs": [],
   "source": [
    "\n",
    "\"\"\"Module to scrape 5-min personal weather station data from Weather Underground.\n",
    "\n",
    "Usage is:\n",
    ">>> python scrape_wunderground.py   STATION    DATE\n",
    "\n",
    "where station is a personal weather station (e.g., KCAJAMES3) and date is in the \n",
    "format YYYY-MM-DD. \n",
    "\n",
    "Alternatively, each function below can be imported and used in a separate python\n",
    "script. Note that a working version of chromedriver must be installed and the absolute \n",
    "path to executable has to be updated below (\"chromedriver_path\").\n",
    "\n",
    "Zach Perzan, 2021-07-28\"\"\"\n",
    "\n",
    "import time\n",
    "import sys\n",
    "\n",
    "import numpy as np\n",
    "import pandas as pd\n",
    "from bs4 import BeautifulSoup as BS\n",
    "from selenium import webdriver\n",
    "\n",
    "\n",
    "# Set the absolute path to chromedriver\n",
    "# chromedriver_path = '/home/_snap/bin/chromium.chromedriver'\n",
    "# chromedriver_path = '/home/dan/opt/chrome-linux64'\n",
    "chromedriver_path = '/home/dan/opt/geckodriver-v0.36.0-linux64/geckodriver'\n",
    "\n",
    "\n",
    "def render_page(url):\n",
    "   \n",
    "    # driver = webdriver.Chrome(chromedriver_path)\n",
    "    driver = webdriver.Firefox(chromedriver_path)\n",
    "    driver.get(url)\n",
    "    time.sleep(3) # Could potentially decrease the sleep time\n",
    "    r = driver.page_source\n",
    "    driver.quit()\n",
    "\n",
    "    return r\n",
    "\n",
    "\n",
    "def scrape_wunderground(station, date):\n",
    "    \n",
    "    # Render the url and open the page source as BS object\n",
    "    # url = 'https://www.wunderground.com/dashboard/pws/%s/table/%s/%s/daily' % (station, date, date)\n",
    "    url = f'https://www.wunderground.com/history/weekly/us/ca/sacramento/KSMF/date/2025-3-1'\n",
    "    \n",
    "    print(\"Working on url:\", url)\n",
    "    r = render_page(url)\n",
    "    soup = BS(r, \"html.parser\",)\n",
    "\n",
    "    # container = soup.find('lib-history-table')\n",
    "    container = soup.find('lib-city-history-observation')\n",
    "    \n",
    "    # Check that lib-history-table is found\n",
    "    if container is None:\n",
    "        print('error finding the container...')\n",
    "        raise ValueError(\"could not find lib-history-table in html source for %s\" % url)\n",
    "    \n",
    "    print(container.contents)\n",
    "    # Get the timestamps and data from two separate 'tbody' tags\n",
    "    all_checks = container.find_all('tbody')\n",
    "    time_check = all_checks[0]\n",
    "    data_check = all_checks[1]\n",
    "    print(time_check)\n",
    "    print(data_check)\n",
    "\n",
    "    # Iterate through 'tr' tags and get the timestamps\n",
    "    hours = []\n",
    "    for i in time_check.find_all('tr'):\n",
    "        trial = i.get_text()\n",
    "        hours.append(trial)\n",
    "\n",
    "    # For data, locate both value and no-value (\"--\") classes\n",
    "    # classes = ['wu-value wu-value-to', 'wu-unit-no-value ng-star-inserted']\n",
    "    classes = ['observation-table', 'ng-star-inserted']\n",
    "\n",
    "    # Iterate through span tags and get data\n",
    "    data = []\n",
    "    for i in data_check.find_all('span', class_=classes):\n",
    "        trial = i.get_text()\n",
    "        data.append(trial)\n",
    "\n",
    "    columns = ['Time', 'Temperature', 'Dew Point', 'Humidity', 'Wind Speed', \n",
    "               'Wind Gust', 'Pressure', 'Precip.', 'Condition']\n",
    "\n",
    "    # Convert NaN values (stings of '--') to np.nan\n",
    "    data_nan = [np.nan if x == '--' else x for x in data]\n",
    "\n",
    "    # Convert list of data to an array\n",
    "    data_array = np.array(data_nan, dtype=float)\n",
    "    data_array = data_array.reshape(-1, len(columns))\n",
    "\n",
    "    # Prepend date to HH:MM strings\n",
    "    timestamps = ['%s %s' % (date, t) for t in hours]\n",
    "\n",
    "    # Convert to dataframe\n",
    "    df = pd.DataFrame(index=timestamps, data=data_array, columns=columns)\n",
    "    df.index = pd.to_datetime(df.index)\n",
    "    \n",
    "    return df\n",
    "\n",
    "\n",
    "def scrape_multiattempt(station, date, attempts=4, wait_time=5.0):\n",
    "    \"\"\"Try to scrape data from Weather Underground. If there is an error on the \n",
    "    first attempt, try again.\n",
    "    \n",
    "    Parameters\n",
    "    ----------\n",
    "        station : str\n",
    "            The personal weather station ID\n",
    "        date : str\n",
    "            The date for which to acquire data, formatted as 'YYYY-MM-DD'\n",
    "        attempts : int, default 4\n",
    "            Maximum number of times to try accessing before failuer\n",
    "        wait_time : float, default 5.0\n",
    "            Amount of time to wait in between attempts\n",
    "            \n",
    "    Returns\n",
    "    -------\n",
    "        df : dataframe or None\n",
    "            A dataframe of weather observations, with index as pd.DateTimeIndex \n",
    "            and columns as the observed data\n",
    "    \"\"\"\n",
    "    \n",
    "    # Try to download data limited number of attempts\n",
    "    for n in range(attempts):\n",
    "        try:\n",
    "            df = scrape_wunderground(station, date)\n",
    "            print('success')\n",
    "        except:\n",
    "            print('exception')\n",
    "            # if unsuccessful, pause and retry\n",
    "            if attempts > 1:\n",
    "                time.sleep(wait_time)\n",
    "        else: \n",
    "            # if successful, then break\n",
    "            break\n",
    "    # If all attempts failed, return empty df\n",
    "    else:\n",
    "        df = pd.DataFrame()\n",
    "        \n",
    "    return df"
   ]
  },
  {
   "cell_type": "code",
   "execution_count": 59,
   "metadata": {},
   "outputs": [
    {
     "name": "stdout",
     "output_type": "stream",
     "text": [
      "Working on url: https://www.wunderground.com/history/weekly/us/ca/sacramento/KSMF/date/2025-3-1\n"
     ]
    },
    {
     "ename": "AttributeError",
     "evalue": "'str' object has no attribute 'capabilities'",
     "output_type": "error",
     "traceback": [
      "\u001b[0;31m---------------------------------------------------------------------------\u001b[0m",
      "\u001b[0;31mAttributeError\u001b[0m                            Traceback (most recent call last)",
      "Cell \u001b[0;32mIn[59], line 3\u001b[0m\n\u001b[1;32m      1\u001b[0m \u001b[38;5;66;03m# data = scrape_multiattempt('KSMF', '2025-03-01', 1)\u001b[39;00m\n\u001b[1;32m      2\u001b[0m \u001b[38;5;66;03m# data = scrape_multiattempt('KCAJAMES3', '2025-03-01')\u001b[39;00m\n\u001b[0;32m----> 3\u001b[0m data \u001b[38;5;241m=\u001b[39m \u001b[43mscrape_wunderground\u001b[49m\u001b[43m(\u001b[49m\u001b[38;5;124;43m'\u001b[39;49m\u001b[38;5;124;43mKSMF\u001b[39;49m\u001b[38;5;124;43m'\u001b[39;49m\u001b[43m,\u001b[49m\u001b[43m \u001b[49m\u001b[38;5;124;43m'\u001b[39;49m\u001b[38;5;124;43m2025-03-01\u001b[39;49m\u001b[38;5;124;43m'\u001b[39;49m\u001b[43m)\u001b[49m\n",
      "Cell \u001b[0;32mIn[58], line 77\u001b[0m, in \u001b[0;36mscrape_wunderground\u001b[0;34m(station, date)\u001b[0m\n\u001b[1;32m     74\u001b[0m url \u001b[38;5;241m=\u001b[39m \u001b[38;5;124mf\u001b[39m\u001b[38;5;124m'\u001b[39m\u001b[38;5;124mhttps://www.wunderground.com/history/weekly/us/ca/sacramento/KSMF/date/2025-3-1\u001b[39m\u001b[38;5;124m'\u001b[39m\n\u001b[1;32m     76\u001b[0m \u001b[38;5;28mprint\u001b[39m(\u001b[38;5;124m\"\u001b[39m\u001b[38;5;124mWorking on url:\u001b[39m\u001b[38;5;124m\"\u001b[39m, url)\n\u001b[0;32m---> 77\u001b[0m r \u001b[38;5;241m=\u001b[39m \u001b[43mrender_page\u001b[49m\u001b[43m(\u001b[49m\u001b[43murl\u001b[49m\u001b[43m)\u001b[49m\n\u001b[1;32m     78\u001b[0m soup \u001b[38;5;241m=\u001b[39m BS(r, \u001b[38;5;124m\"\u001b[39m\u001b[38;5;124mhtml.parser\u001b[39m\u001b[38;5;124m\"\u001b[39m,)\n\u001b[1;32m     80\u001b[0m \u001b[38;5;66;03m# container = soup.find('lib-history-table')\u001b[39;00m\n",
      "Cell \u001b[0;32mIn[58], line 45\u001b[0m, in \u001b[0;36mrender_page\u001b[0;34m(url)\u001b[0m\n\u001b[1;32m     31\u001b[0m \u001b[38;5;250m\u001b[39m\u001b[38;5;124;03m\"\"\"Given a url, render it with chromedriver and return the html source\u001b[39;00m\n\u001b[1;32m     32\u001b[0m \u001b[38;5;124;03m\u001b[39;00m\n\u001b[1;32m     33\u001b[0m \u001b[38;5;124;03mParameters\u001b[39;00m\n\u001b[0;32m   (...)\u001b[0m\n\u001b[1;32m     41\u001b[0m \u001b[38;5;124;03m        rendered page source\u001b[39;00m\n\u001b[1;32m     42\u001b[0m \u001b[38;5;124;03m\"\"\"\u001b[39;00m\n\u001b[1;32m     44\u001b[0m \u001b[38;5;66;03m# driver = webdriver.Chrome(chromedriver_path)\u001b[39;00m\n\u001b[0;32m---> 45\u001b[0m driver \u001b[38;5;241m=\u001b[39m \u001b[43mwebdriver\u001b[49m\u001b[38;5;241;43m.\u001b[39;49m\u001b[43mFirefox\u001b[49m\u001b[43m(\u001b[49m\u001b[43mchromedriver_path\u001b[49m\u001b[43m)\u001b[49m\n\u001b[1;32m     46\u001b[0m driver\u001b[38;5;241m.\u001b[39mget(url)\n\u001b[1;32m     47\u001b[0m time\u001b[38;5;241m.\u001b[39msleep(\u001b[38;5;241m3\u001b[39m) \u001b[38;5;66;03m# Could potentially decrease the sleep time\u001b[39;00m\n",
      "File \u001b[0;32m~/venv/lib/python3.12/site-packages/selenium/webdriver/firefox/webdriver.py:57\u001b[0m, in \u001b[0;36mWebDriver.__init__\u001b[0;34m(self, options, service, keep_alive)\u001b[0m\n\u001b[1;32m     54\u001b[0m options \u001b[38;5;241m=\u001b[39m options \u001b[38;5;28;01mif\u001b[39;00m options \u001b[38;5;28;01melse\u001b[39;00m Options()\n\u001b[1;32m     56\u001b[0m finder \u001b[38;5;241m=\u001b[39m DriverFinder(\u001b[38;5;28mself\u001b[39m\u001b[38;5;241m.\u001b[39mservice, options)\n\u001b[0;32m---> 57\u001b[0m \u001b[38;5;28;01mif\u001b[39;00m \u001b[43mfinder\u001b[49m\u001b[38;5;241;43m.\u001b[39;49m\u001b[43mget_browser_path\u001b[49m\u001b[43m(\u001b[49m\u001b[43m)\u001b[49m:\n\u001b[1;32m     58\u001b[0m     options\u001b[38;5;241m.\u001b[39mbinary_location \u001b[38;5;241m=\u001b[39m finder\u001b[38;5;241m.\u001b[39mget_browser_path()\n\u001b[1;32m     59\u001b[0m     options\u001b[38;5;241m.\u001b[39mbrowser_version \u001b[38;5;241m=\u001b[39m \u001b[38;5;28;01mNone\u001b[39;00m\n",
      "File \u001b[0;32m~/venv/lib/python3.12/site-packages/selenium/webdriver/common/driver_finder.py:47\u001b[0m, in \u001b[0;36mDriverFinder.get_browser_path\u001b[0;34m(self)\u001b[0m\n\u001b[1;32m     46\u001b[0m \u001b[38;5;28;01mdef\u001b[39;00m \u001b[38;5;21mget_browser_path\u001b[39m(\u001b[38;5;28mself\u001b[39m) \u001b[38;5;241m-\u001b[39m\u001b[38;5;241m>\u001b[39m \u001b[38;5;28mstr\u001b[39m:\n\u001b[0;32m---> 47\u001b[0m     \u001b[38;5;28;01mreturn\u001b[39;00m \u001b[38;5;28;43mself\u001b[39;49m\u001b[38;5;241;43m.\u001b[39;49m\u001b[43m_binary_paths\u001b[49m\u001b[43m(\u001b[49m\u001b[43m)\u001b[49m[\u001b[38;5;124m\"\u001b[39m\u001b[38;5;124mbrowser_path\u001b[39m\u001b[38;5;124m\"\u001b[39m]\n",
      "File \u001b[0;32m~/venv/lib/python3.12/site-packages/selenium/webdriver/common/driver_finder.py:56\u001b[0m, in \u001b[0;36mDriverFinder._binary_paths\u001b[0;34m(self)\u001b[0m\n\u001b[1;32m     53\u001b[0m \u001b[38;5;28;01mif\u001b[39;00m \u001b[38;5;28mself\u001b[39m\u001b[38;5;241m.\u001b[39m_paths[\u001b[38;5;124m\"\u001b[39m\u001b[38;5;124mdriver_path\u001b[39m\u001b[38;5;124m\"\u001b[39m]:\n\u001b[1;32m     54\u001b[0m     \u001b[38;5;28;01mreturn\u001b[39;00m \u001b[38;5;28mself\u001b[39m\u001b[38;5;241m.\u001b[39m_paths\n\u001b[0;32m---> 56\u001b[0m browser \u001b[38;5;241m=\u001b[39m \u001b[38;5;28;43mself\u001b[39;49m\u001b[38;5;241;43m.\u001b[39;49m\u001b[43m_options\u001b[49m\u001b[38;5;241;43m.\u001b[39;49m\u001b[43mcapabilities\u001b[49m[\u001b[38;5;124m\"\u001b[39m\u001b[38;5;124mbrowserName\u001b[39m\u001b[38;5;124m\"\u001b[39m]\n\u001b[1;32m     57\u001b[0m \u001b[38;5;28;01mtry\u001b[39;00m:\n\u001b[1;32m     58\u001b[0m     path \u001b[38;5;241m=\u001b[39m \u001b[38;5;28mself\u001b[39m\u001b[38;5;241m.\u001b[39m_service\u001b[38;5;241m.\u001b[39mpath\n",
      "\u001b[0;31mAttributeError\u001b[0m: 'str' object has no attribute 'capabilities'"
     ]
    }
   ],
   "source": [
    "# data = scrape_multiattempt('KSMF', '2025-03-01', 1)\n",
    "# data = scrape_multiattempt('KCAJAMES3', '2025-03-01')\n",
    "data = scrape_wunderground('KSMF', '2025-03-01')"
   ]
  },
  {
   "cell_type": "code",
   "execution_count": 33,
   "metadata": {},
   "outputs": [
    {
     "name": "stdout",
     "output_type": "stream",
     "text": [
      "Empty DataFrame\n",
      "Columns: []\n",
      "Index: []\n"
     ]
    }
   ],
   "source": [
    "print(data)"
   ]
  },
  {
   "cell_type": "code",
   "execution_count": 63,
   "metadata": {},
   "outputs": [],
   "source": [
    "import time\n",
    "import sys\n",
    "\n",
    "import numpy as np\n",
    "import pandas as pd\n",
    "from bs4 import BeautifulSoup as BS\n",
    "from selenium import webdriver\n",
    "from selenium.webdriver.chrome.service import Service\n",
    "\n",
    "\n",
    "# Set the absolute path to chromedriver\n",
    "# chromedriver_path = '/home/_snap/bin/chromium.chromedriver'\n",
    "# chromedriver_path = '/home/dan/opt/chrome-linux64/chrome'\n",
    "chromedriver_path = '/home/dan/opt/chromedriver-linux64/chromedriver'\n",
    "# chromedriver_path = '/home/dan/opt/geckodriver-v0.36.0-linux64/geckodriver'\n",
    "\n",
    "url = f'https://www.wunderground.com/history/weekly/us/ca/sacramento/KSMF/date/2025-3-1'\n",
    "\n",
    "# driver = webdriver.Chrome(chromedriver_path)\n",
    "# driver = webdriver.Firefox(chromedriver_path)\n",
    "service = Service(chromedriver_path)\n",
    "driver = webdriver.Chrome(service=service)\n",
    "\n",
    "driver.get(url)\n",
    "time.sleep(3) # Could potentially decrease the sleep time\n",
    "r = driver.page_source\n",
    "driver.quit()\n",
    "\n"
   ]
  },
  {
   "cell_type": "code",
   "execution_count": 73,
   "metadata": {},
   "outputs": [
    {
     "name": "stdout",
     "output_type": "stream",
     "text": [
      "[<div _ngcontent-app-root-c196=\"\"><div _ngcontent-app-root-c196=\"\" class=\"observation-title\">Daily Observations</div><div _ngcontent-app-root-c196=\"\" class=\"observation-table ng-star-inserted\"><table _ngcontent-app-root-c196=\"\" aria-labelledby=\"History days\" class=\"days ng-star-inserted\"><thead _ngcontent-app-root-c196=\"\"><tr _ngcontent-app-root-c196=\"\"><td _ngcontent-app-root-c196=\"\" class=\"ng-star-inserted\">Time</td><td _ngcontent-app-root-c196=\"\" class=\"ng-star-inserted\">Temperature (°F)</td><td _ngcontent-app-root-c196=\"\" class=\"ng-star-inserted\">Dew Point (°F)</td><td _ngcontent-app-root-c196=\"\" class=\"ng-star-inserted\">Humidity (%)</td><td _ngcontent-app-root-c196=\"\" class=\"ng-star-inserted\">Wind Speed (mph)</td><td _ngcontent-app-root-c196=\"\" class=\"ng-star-inserted\">Pressure (in)</td><td _ngcontent-app-root-c196=\"\" class=\"ng-star-inserted\">Precipitation (in)</td><!-- --></tr></thead><tbody _ngcontent-app-root-c196=\"\"><tr _ngcontent-app-root-c196=\"\"><td _ngcontent-app-root-c196=\"\" class=\"ng-star-inserted\"><table _ngcontent-app-root-c196=\"\" aria-labelledby=\"Days data\"><tr _ngcontent-app-root-c196=\"\" class=\"ng-star-inserted\"><td _ngcontent-app-root-c196=\"\" class=\"ng-star-inserted\"> Feb </td><!-- --></tr><tr _ngcontent-app-root-c196=\"\" class=\"ng-star-inserted\"><td _ngcontent-app-root-c196=\"\" class=\"ng-star-inserted\"> 23 </td><!-- --></tr><tr _ngcontent-app-root-c196=\"\" class=\"ng-star-inserted\"><td _ngcontent-app-root-c196=\"\" class=\"ng-star-inserted\"> 24 </td><!-- --></tr><tr _ngcontent-app-root-c196=\"\" class=\"ng-star-inserted\"><td _ngcontent-app-root-c196=\"\" class=\"ng-star-inserted\"> 25 </td><!-- --></tr><tr _ngcontent-app-root-c196=\"\" class=\"ng-star-inserted\"><td _ngcontent-app-root-c196=\"\" class=\"ng-star-inserted\"> 26 </td><!-- --></tr><tr _ngcontent-app-root-c196=\"\" class=\"ng-star-inserted\"><td _ngcontent-app-root-c196=\"\" class=\"ng-star-inserted\"> 27 </td><!-- --></tr><tr _ngcontent-app-root-c196=\"\" class=\"ng-star-inserted\"><td _ngcontent-app-root-c196=\"\" class=\"ng-star-inserted\"> 28 </td><!-- --></tr><tr _ngcontent-app-root-c196=\"\" class=\"ng-star-inserted\"><td _ngcontent-app-root-c196=\"\" class=\"ng-star-inserted\"> 1 </td><!-- --></tr><!-- --></table></td><td _ngcontent-app-root-c196=\"\" class=\"ng-star-inserted\"><table _ngcontent-app-root-c196=\"\" aria-labelledby=\"Days data\"><tr _ngcontent-app-root-c196=\"\" class=\"ng-star-inserted\"><td _ngcontent-app-root-c196=\"\" class=\"ng-star-inserted\"> Max </td><td _ngcontent-app-root-c196=\"\" class=\"ng-star-inserted\"> Avg </td><td _ngcontent-app-root-c196=\"\" class=\"ng-star-inserted\"> Min </td><!-- --></tr><tr _ngcontent-app-root-c196=\"\" class=\"ng-star-inserted\"><td _ngcontent-app-root-c196=\"\" class=\"ng-star-inserted\"> 68 </td><td _ngcontent-app-root-c196=\"\" class=\"ng-star-inserted\"> 59.9 </td><td _ngcontent-app-root-c196=\"\" class=\"ng-star-inserted\"> 54 </td><!-- --></tr><tr _ngcontent-app-root-c196=\"\" class=\"ng-star-inserted\"><td _ngcontent-app-root-c196=\"\" class=\"ng-star-inserted\"> 67 </td><td _ngcontent-app-root-c196=\"\" class=\"ng-star-inserted\"> 56.2 </td><td _ngcontent-app-root-c196=\"\" class=\"ng-star-inserted\"> 49 </td><!-- --></tr><tr _ngcontent-app-root-c196=\"\" class=\"ng-star-inserted\"><td _ngcontent-app-root-c196=\"\" class=\"ng-star-inserted\"> 67 </td><td _ngcontent-app-root-c196=\"\" class=\"ng-star-inserted\"> 52.9 </td><td _ngcontent-app-root-c196=\"\" class=\"ng-star-inserted\"> 41 </td><!-- --></tr><tr _ngcontent-app-root-c196=\"\" class=\"ng-star-inserted\"><td _ngcontent-app-root-c196=\"\" class=\"ng-star-inserted\"> 71 </td><td _ngcontent-app-root-c196=\"\" class=\"ng-star-inserted\"> 54.2 </td><td _ngcontent-app-root-c196=\"\" class=\"ng-star-inserted\"> 40 </td><!-- --></tr><tr _ngcontent-app-root-c196=\"\" class=\"ng-star-inserted\"><td _ngcontent-app-root-c196=\"\" class=\"ng-star-inserted\"> 73 </td><td _ngcontent-app-root-c196=\"\" class=\"ng-star-inserted\"> 57.5 </td><td _ngcontent-app-root-c196=\"\" class=\"ng-star-inserted\"> 44 </td><!-- --></tr><tr _ngcontent-app-root-c196=\"\" class=\"ng-star-inserted\"><td _ngcontent-app-root-c196=\"\" class=\"ng-star-inserted\"> 71 </td><td _ngcontent-app-root-c196=\"\" class=\"ng-star-inserted\"> 58.5 </td><td _ngcontent-app-root-c196=\"\" class=\"ng-star-inserted\"> 46 </td><!-- --></tr><tr _ngcontent-app-root-c196=\"\" class=\"ng-star-inserted\"><td _ngcontent-app-root-c196=\"\" class=\"ng-star-inserted\"> 71 </td><td _ngcontent-app-root-c196=\"\" class=\"ng-star-inserted\"> 56.0 </td><td _ngcontent-app-root-c196=\"\" class=\"ng-star-inserted\"> 43 </td><!-- --></tr><!-- --></table></td><td _ngcontent-app-root-c196=\"\" class=\"ng-star-inserted\"><table _ngcontent-app-root-c196=\"\" aria-labelledby=\"Days data\"><tr _ngcontent-app-root-c196=\"\" class=\"ng-star-inserted\"><td _ngcontent-app-root-c196=\"\" class=\"ng-star-inserted\"> Max </td><td _ngcontent-app-root-c196=\"\" class=\"ng-star-inserted\"> Avg </td><td _ngcontent-app-root-c196=\"\" class=\"ng-star-inserted\"> Min </td><!-- --></tr><tr _ngcontent-app-root-c196=\"\" class=\"ng-star-inserted\"><td _ngcontent-app-root-c196=\"\" class=\"ng-star-inserted\"> 52 </td><td _ngcontent-app-root-c196=\"\" class=\"ng-star-inserted\"> 47.5 </td><td _ngcontent-app-root-c196=\"\" class=\"ng-star-inserted\"> 43 </td><!-- --></tr><tr _ngcontent-app-root-c196=\"\" class=\"ng-star-inserted\"><td _ngcontent-app-root-c196=\"\" class=\"ng-star-inserted\"> 54 </td><td _ngcontent-app-root-c196=\"\" class=\"ng-star-inserted\"> 50.7 </td><td _ngcontent-app-root-c196=\"\" class=\"ng-star-inserted\"> 46 </td><!-- --></tr><tr _ngcontent-app-root-c196=\"\" class=\"ng-star-inserted\"><td _ngcontent-app-root-c196=\"\" class=\"ng-star-inserted\"> 51 </td><td _ngcontent-app-root-c196=\"\" class=\"ng-star-inserted\"> 43.8 </td><td _ngcontent-app-root-c196=\"\" class=\"ng-star-inserted\"> 38 </td><!-- --></tr><tr _ngcontent-app-root-c196=\"\" class=\"ng-star-inserted\"><td _ngcontent-app-root-c196=\"\" class=\"ng-star-inserted\"> 46 </td><td _ngcontent-app-root-c196=\"\" class=\"ng-star-inserted\"> 41.5 </td><td _ngcontent-app-root-c196=\"\" class=\"ng-star-inserted\"> 36 </td><!-- --></tr><tr _ngcontent-app-root-c196=\"\" class=\"ng-star-inserted\"><td _ngcontent-app-root-c196=\"\" class=\"ng-star-inserted\"> 53 </td><td _ngcontent-app-root-c196=\"\" class=\"ng-star-inserted\"> 46.5 </td><td _ngcontent-app-root-c196=\"\" class=\"ng-star-inserted\"> 41 </td><!-- --></tr><tr _ngcontent-app-root-c196=\"\" class=\"ng-star-inserted\"><td _ngcontent-app-root-c196=\"\" class=\"ng-star-inserted\"> 49 </td><td _ngcontent-app-root-c196=\"\" class=\"ng-star-inserted\"> 45.7 </td><td _ngcontent-app-root-c196=\"\" class=\"ng-star-inserted\"> 41 </td><!-- --></tr><tr _ngcontent-app-root-c196=\"\" class=\"ng-star-inserted\"><td _ngcontent-app-root-c196=\"\" class=\"ng-star-inserted\"> 52 </td><td _ngcontent-app-root-c196=\"\" class=\"ng-star-inserted\"> 46.8 </td><td _ngcontent-app-root-c196=\"\" class=\"ng-star-inserted\"> 40 </td><!-- --></tr><!-- --></table></td><td _ngcontent-app-root-c196=\"\" class=\"ng-star-inserted\"><table _ngcontent-app-root-c196=\"\" aria-labelledby=\"Days data\"><tr _ngcontent-app-root-c196=\"\" class=\"ng-star-inserted\"><td _ngcontent-app-root-c196=\"\" class=\"ng-star-inserted\"> Max </td><td _ngcontent-app-root-c196=\"\" class=\"ng-star-inserted\"> Avg </td><td _ngcontent-app-root-c196=\"\" class=\"ng-star-inserted\"> Min </td><!-- --></tr><tr _ngcontent-app-root-c196=\"\" class=\"ng-star-inserted\"><td _ngcontent-app-root-c196=\"\" class=\"ng-star-inserted\"> 81 </td><td _ngcontent-app-root-c196=\"\" class=\"ng-star-inserted\"> 64.6 </td><td _ngcontent-app-root-c196=\"\" class=\"ng-star-inserted\"> 47 </td><!-- --></tr><tr _ngcontent-app-root-c196=\"\" class=\"ng-star-inserted\"><td _ngcontent-app-root-c196=\"\" class=\"ng-star-inserted\"> 93 </td><td _ngcontent-app-root-c196=\"\" class=\"ng-star-inserted\"> 83.2 </td><td _ngcontent-app-root-c196=\"\" class=\"ng-star-inserted\"> 59 </td><!-- --></tr><tr _ngcontent-app-root-c196=\"\" class=\"ng-star-inserted\"><td _ngcontent-app-root-c196=\"\" class=\"ng-star-inserted\"> 100 </td><td _ngcontent-app-root-c196=\"\" class=\"ng-star-inserted\"> 74.4 </td><td _ngcontent-app-root-c196=\"\" class=\"ng-star-inserted\"> 37 </td><!-- --></tr><tr _ngcontent-app-root-c196=\"\" class=\"ng-star-inserted\"><td _ngcontent-app-root-c196=\"\" class=\"ng-star-inserted\"> 86 </td><td _ngcontent-app-root-c196=\"\" class=\"ng-star-inserted\"> 65.3 </td><td _ngcontent-app-root-c196=\"\" class=\"ng-star-inserted\"> 32 </td><!-- --></tr><tr _ngcontent-app-root-c196=\"\" class=\"ng-star-inserted\"><td _ngcontent-app-root-c196=\"\" class=\"ng-star-inserted\"> 89 </td><td _ngcontent-app-root-c196=\"\" class=\"ng-star-inserted\"> 69.5 </td><td _ngcontent-app-root-c196=\"\" class=\"ng-star-inserted\"> 35 </td><!-- --></tr><tr _ngcontent-app-root-c196=\"\" class=\"ng-star-inserted\"><td _ngcontent-app-root-c196=\"\" class=\"ng-star-inserted\"> 83 </td><td _ngcontent-app-root-c196=\"\" class=\"ng-star-inserted\"> 64.6 </td><td _ngcontent-app-root-c196=\"\" class=\"ng-star-inserted\"> 41 </td><!-- --></tr><tr _ngcontent-app-root-c196=\"\" class=\"ng-star-inserted\"><td _ngcontent-app-root-c196=\"\" class=\"ng-star-inserted\"> 89 </td><td _ngcontent-app-root-c196=\"\" class=\"ng-star-inserted\"> 72.0 </td><td _ngcontent-app-root-c196=\"\" class=\"ng-star-inserted\"> 49 </td><!-- --></tr><!-- --></table></td><td _ngcontent-app-root-c196=\"\" class=\"ng-star-inserted\"><table _ngcontent-app-root-c196=\"\" aria-labelledby=\"Days data\"><tr _ngcontent-app-root-c196=\"\" class=\"ng-star-inserted\"><td _ngcontent-app-root-c196=\"\" class=\"ng-star-inserted\"> Max </td><td _ngcontent-app-root-c196=\"\" class=\"ng-star-inserted\"> Avg </td><td _ngcontent-app-root-c196=\"\" class=\"ng-star-inserted\"> Min </td><!-- --></tr><tr _ngcontent-app-root-c196=\"\" class=\"ng-star-inserted\"><td _ngcontent-app-root-c196=\"\" class=\"ng-star-inserted\"> 14 </td><td _ngcontent-app-root-c196=\"\" class=\"ng-star-inserted\"> 7.6 </td><td _ngcontent-app-root-c196=\"\" class=\"ng-star-inserted\"> 3 </td><!-- --></tr><tr _ngcontent-app-root-c196=\"\" class=\"ng-star-inserted\"><td _ngcontent-app-root-c196=\"\" class=\"ng-star-inserted\"> 14 </td><td _ngcontent-app-root-c196=\"\" class=\"ng-star-inserted\"> 8.0 </td><td _ngcontent-app-root-c196=\"\" class=\"ng-star-inserted\"> 0 </td><!-- --></tr><tr _ngcontent-app-root-c196=\"\" class=\"ng-star-inserted\"><td _ngcontent-app-root-c196=\"\" class=\"ng-star-inserted\"> 15 </td><td _ngcontent-app-root-c196=\"\" class=\"ng-star-inserted\"> 7.1 </td><td _ngcontent-app-root-c196=\"\" class=\"ng-star-inserted\"> 0 </td><!-- --></tr><tr _ngcontent-app-root-c196=\"\" class=\"ng-star-inserted\"><td _ngcontent-app-root-c196=\"\" class=\"ng-star-inserted\"> 8 </td><td _ngcontent-app-root-c196=\"\" class=\"ng-star-inserted\"> 2.8 </td><td _ngcontent-app-root-c196=\"\" class=\"ng-star-inserted\"> 0 </td><!-- --></tr><tr _ngcontent-app-root-c196=\"\" class=\"ng-star-inserted\"><td _ngcontent-app-root-c196=\"\" class=\"ng-star-inserted\"> 9 </td><td _ngcontent-app-root-c196=\"\" class=\"ng-star-inserted\"> 4.8 </td><td _ngcontent-app-root-c196=\"\" class=\"ng-star-inserted\"> 0 </td><!-- --></tr><tr _ngcontent-app-root-c196=\"\" class=\"ng-star-inserted\"><td _ngcontent-app-root-c196=\"\" class=\"ng-star-inserted\"> 8 </td><td _ngcontent-app-root-c196=\"\" class=\"ng-star-inserted\"> 4.0 </td><td _ngcontent-app-root-c196=\"\" class=\"ng-star-inserted\"> 0 </td><!-- --></tr><tr _ngcontent-app-root-c196=\"\" class=\"ng-star-inserted\"><td _ngcontent-app-root-c196=\"\" class=\"ng-star-inserted\"> 20 </td><td _ngcontent-app-root-c196=\"\" class=\"ng-star-inserted\"> 9.4 </td><td _ngcontent-app-root-c196=\"\" class=\"ng-star-inserted\"> 0 </td><!-- --></tr><!-- --></table></td><td _ngcontent-app-root-c196=\"\" class=\"ng-star-inserted\"><table _ngcontent-app-root-c196=\"\" aria-labelledby=\"Days data\"><tr _ngcontent-app-root-c196=\"\" class=\"ng-star-inserted\"><td _ngcontent-app-root-c196=\"\" class=\"ng-star-inserted\"> Max </td><td _ngcontent-app-root-c196=\"\" class=\"ng-star-inserted\"> Avg </td><td _ngcontent-app-root-c196=\"\" class=\"ng-star-inserted\"> Min </td><!-- --></tr><tr _ngcontent-app-root-c196=\"\" class=\"ng-star-inserted\"><td _ngcontent-app-root-c196=\"\" class=\"ng-star-inserted\"> 30.3 </td><td _ngcontent-app-root-c196=\"\" class=\"ng-star-inserted\"> 30.2 </td><td _ngcontent-app-root-c196=\"\" class=\"ng-star-inserted\"> 30.1 </td><!-- --></tr><tr _ngcontent-app-root-c196=\"\" class=\"ng-star-inserted\"><td _ngcontent-app-root-c196=\"\" class=\"ng-star-inserted\"> 30.2 </td><td _ngcontent-app-root-c196=\"\" class=\"ng-star-inserted\"> 30.1 </td><td _ngcontent-app-root-c196=\"\" class=\"ng-star-inserted\"> 30.1 </td><!-- --></tr><tr _ngcontent-app-root-c196=\"\" class=\"ng-star-inserted\"><td _ngcontent-app-root-c196=\"\" class=\"ng-star-inserted\"> 30.2 </td><td _ngcontent-app-root-c196=\"\" class=\"ng-star-inserted\"> 30.1 </td><td _ngcontent-app-root-c196=\"\" class=\"ng-star-inserted\"> 30.0 </td><!-- --></tr><tr _ngcontent-app-root-c196=\"\" class=\"ng-star-inserted\"><td _ngcontent-app-root-c196=\"\" class=\"ng-star-inserted\"> 30.1 </td><td _ngcontent-app-root-c196=\"\" class=\"ng-star-inserted\"> 30.0 </td><td _ngcontent-app-root-c196=\"\" class=\"ng-star-inserted\"> 30.0 </td><!-- --></tr><tr _ngcontent-app-root-c196=\"\" class=\"ng-star-inserted\"><td _ngcontent-app-root-c196=\"\" class=\"ng-star-inserted\"> 30.1 </td><td _ngcontent-app-root-c196=\"\" class=\"ng-star-inserted\"> 30.0 </td><td _ngcontent-app-root-c196=\"\" class=\"ng-star-inserted\"> 29.9 </td><!-- --></tr><tr _ngcontent-app-root-c196=\"\" class=\"ng-star-inserted\"><td _ngcontent-app-root-c196=\"\" class=\"ng-star-inserted\"> 29.9 </td><td _ngcontent-app-root-c196=\"\" class=\"ng-star-inserted\"> 29.9 </td><td _ngcontent-app-root-c196=\"\" class=\"ng-star-inserted\"> 29.8 </td><!-- --></tr><tr _ngcontent-app-root-c196=\"\" class=\"ng-star-inserted\"><td _ngcontent-app-root-c196=\"\" class=\"ng-star-inserted\"> 29.9 </td><td _ngcontent-app-root-c196=\"\" class=\"ng-star-inserted\"> 29.9 </td><td _ngcontent-app-root-c196=\"\" class=\"ng-star-inserted\"> 29.8 </td><!-- --></tr><!-- --></table></td><td _ngcontent-app-root-c196=\"\" class=\"ng-star-inserted\"><table _ngcontent-app-root-c196=\"\" aria-labelledby=\"Days data\"><tr _ngcontent-app-root-c196=\"\" class=\"ng-star-inserted\"><td _ngcontent-app-root-c196=\"\" class=\"ng-star-inserted\"> Total </td><!-- --></tr><tr _ngcontent-app-root-c196=\"\" class=\"ng-star-inserted\"><td _ngcontent-app-root-c196=\"\" class=\"ng-star-inserted\"> 0.00 </td><!-- --></tr><tr _ngcontent-app-root-c196=\"\" class=\"ng-star-inserted\"><td _ngcontent-app-root-c196=\"\" class=\"ng-star-inserted\"> 0.00 </td><!-- --></tr><tr _ngcontent-app-root-c196=\"\" class=\"ng-star-inserted\"><td _ngcontent-app-root-c196=\"\" class=\"ng-star-inserted\"> 0.00 </td><!-- --></tr><tr _ngcontent-app-root-c196=\"\" class=\"ng-star-inserted\"><td _ngcontent-app-root-c196=\"\" class=\"ng-star-inserted\"> 0.00 </td><!-- --></tr><tr _ngcontent-app-root-c196=\"\" class=\"ng-star-inserted\"><td _ngcontent-app-root-c196=\"\" class=\"ng-star-inserted\"> 0.00 </td><!-- --></tr><tr _ngcontent-app-root-c196=\"\" class=\"ng-star-inserted\"><td _ngcontent-app-root-c196=\"\" class=\"ng-star-inserted\"> 0.00 </td><!-- --></tr><tr _ngcontent-app-root-c196=\"\" class=\"ng-star-inserted\"><td _ngcontent-app-root-c196=\"\" class=\"ng-star-inserted\"> 0.00 </td><!-- --></tr><!-- --></table></td><!-- --></tr></tbody></table><!-- --><!-- --></div><!-- --><!-- --></div>]\n",
      "TimeTemperature (°F)Dew Point (°F)Humidity (%)Wind Speed (mph)Pressure (in)Precipitation (in)\n"
     ]
    }
   ],
   "source": [
    "soup = BS(r, \"html.parser\",)\n",
    "\n",
    "# container = soup.find('lib-history-table')\n",
    "container = soup.find('lib-city-history-observation')\n",
    "print(container.contents)\n",
    "\n",
    "# column names are in thead\n",
    "columns = ['Time', 'Temperature', 'Dew Point', 'Humidity', 'Wind Speed', \n",
    "               'Wind Gust', 'Pressure', 'Precip.', 'Condition']\n",
    "# confirm that our columns are correct:\n",
    "column_headers = container.find_all('thead')\n",
    "# break it up by column:\n",
    "for header in column_headers:\n",
    "    for item in header:\n",
    "        print(item.get_text())\n",
    "\n",
    "# data rows are in tbody\n"
   ]
  },
  {
   "cell_type": "code",
   "execution_count": null,
   "metadata": {},
   "outputs": [],
   "source": []
  }
 ],
 "metadata": {
  "kernelspec": {
   "display_name": "venv",
   "language": "python",
   "name": "python3"
  },
  "language_info": {
   "codemirror_mode": {
    "name": "ipython",
    "version": 3
   },
   "file_extension": ".py",
   "mimetype": "text/x-python",
   "name": "python",
   "nbconvert_exporter": "python",
   "pygments_lexer": "ipython3",
   "version": "3.11.6"
  }
 },
 "nbformat": 4,
 "nbformat_minor": 2
}
