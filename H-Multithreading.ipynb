{
 "cells": [
  {
   "cell_type": "markdown",
   "id": "88d53049",
   "metadata": {},
   "source": [
    "# H - Multi-Threading\n",
    "\n",
    "Differences between processes and threads\n",
    "\n",
    "## What is it?\n",
    "Multi-threading enables us to do more than one thing at the same time.  One multi-core CPUs, threads can occupy more than one core and both perform work concurrently.  Even on a single core, threads can take turns running so that if one thread is waiting for a response (network, user input, disk read, etc) another thread can still be productive.  \n",
    "\n",
    "\n",
    "### Processes vs threads\n",
    "Processes are allocated by the operating system and have their own protected memory.  It is expensive to create and destroy processes and sharing data between processes is difficult. Eace process can start multiple threads that all share the process' memory, so threads can communicate, e.g. worker threads can take turns retreiving tasks from a queue in \"shared memory\" to work on them in parallel.  We need to take precautions to avoid reading/changing memory at the same time between threads using locks and/or mutexes.  \n",
    "* A lock can be used to protect a critical section of code from being interrupted by a task switch to another thread\n",
    "* A mutex can be used to ensure only one thread interacts with something in memory at a time.  This is sort of like a baton.  Each thread waits to receive the mutex before doing the thing and then releases it for another thread. \n",
    "\n",
    "## What for?\n",
    "Using multiple threads lets us run multiple operations in parallel.  We might want to do this for a few reasons:\n",
    "* Tasks that have blocking operations can be executed in parallel so whichever are currently unblocked get to run while the waiting ones sit idle. \n",
    "  * Web Servers can use a thread for each user session\n",
    "* Large operatoins can be broken up into smaller chunks and run in parallel on more than one cpu core to improve performance. \n",
    "\n",
    "**Alternatives**\n",
    "Many libraries are written in C and implement threading on their own to improve performance for their specific tasks. Exmalpes:\n",
    "* numpy - pandas is built on this. \n",
    "* pytorch - used for neural networks\n",
    "* opencv - for image processing\n",
    "* ...\n",
    "\n",
    "\n",
    "## What is the Gil?\n",
    "The GIL - Global Interpreter Lock - is a sort of mutex that only lets one thread execute at a time. Python was designed using the gil initially to make the language more simple and maintainable and to focus on single threaded performance.  Many python programs are slowed more by I/O wait than cpu and don't see performance penalty from the gil. \n",
    "\n",
    "Work is ongoing now to remove the gil, and even standard python can be compiled now without it if you have need for truly concurrent multi-threading with python.  Just note that some libraries are not thread safe or not yet updated to work without the gil.  \n",
    "\n",
    "https://py-free-threading.github.io/running-gil-disabled/\n",
    "\n",
    "# Simple first example\n",
    "Let's create two threads that each execute the worker function.  \n",
    "* threading.Thread returns a handle for a new thread\n",
    "  * target= specifies the function it will run\n",
    "  * args= specifies any arguments that should be passed to the function\n",
    "* t.start() tells the thread to start running.\n",
    "* t.join() waits for the thread to complete. This is \"blocking\". "
   ]
  },
  {
   "cell_type": "code",
   "execution_count": 3,
   "id": "698765cd",
   "metadata": {},
   "outputs": [
    {
     "name": "stdout",
     "output_type": "stream",
     "text": [
      "Thread-A is working on step 0\n",
      "Thread-B is working on step 0\n",
      "Thread-A is working on step 1\n",
      "Thread-B is working on step 1\n",
      "Thread-A is working on step 2\n",
      "Thread-B is working on step 2\n",
      "All threads are done.\n"
     ]
    }
   ],
   "source": [
    "import threading\n",
    "import time\n",
    "\n",
    "def worker(name):\n",
    "    for i in range(3):\n",
    "        print(f\"{name} is working on step {i}\")\n",
    "        time.sleep(1)\n",
    "\n",
    "# Create threads\n",
    "t1 = threading.Thread(target=worker, args=(\"Thread-A\",))\n",
    "t2 = threading.Thread(target=worker, args=(\"Thread-B\",))\n",
    "\n",
    "# Start threads\n",
    "t1.start()\n",
    "t2.start()\n",
    "\n",
    "# Wait for threads to finish\n",
    "t1.join()\n",
    "t2.join()\n",
    "\n",
    "print(\"All threads are done.\")"
   ]
  },
  {
   "cell_type": "markdown",
   "id": "c01345f2",
   "metadata": {},
   "source": [
    "## Working with shared memory\n",
    "What happens when more than one thread each try to use a counter variable/object with no coordination?  In this example, each thread should add 10000 to our counter, so the conter should increment up to 50000 with 5 threads.  \n",
    "\n",
    "Run it couple of times and then uncomment the time.sleep line and run it a few more times. Time.sleep forces a context switch to another thread.  This is something that always has a chance of happening at any point in our code but may be infrequent and hard to observe without adding the time.sleep to make it obvious. \n",
    "\n",
    "Why does the counter total change from 50000 to 10000 or 10001, 10002, 10003, ... when addding the sleep?  \n",
    "\n",
    "Each thread checks the counter and adds to it in it's own variable.  If another thread context switches in before the first thread puts its change back on the counter, the second thread will try to make the same change, e.g. both of them try to add 1 to the same number.\n",
    "\n",
    "With more complicated code these interactins can cause all kinds of unintended behavior."
   ]
  },
  {
   "cell_type": "code",
   "execution_count": null,
   "id": "cfccad59",
   "metadata": {},
   "outputs": [
    {
     "name": "stdout",
     "output_type": "stream",
     "text": [
      "Final counter value: 50000\n"
     ]
    }
   ],
   "source": [
    "import threading\n",
    "\n",
    "counter = 0\n",
    "\n",
    "def increment():\n",
    "    global counter\n",
    "    for _ in range(10000):\n",
    "        new_value = counter + 1\n",
    "        # time.sleep(0)\n",
    "        counter = new_value\n",
    "\n",
    "threads = [threading.Thread(target=increment) for _ in range(5)]\n",
    "\n",
    "for t in threads:\n",
    "    t.start()\n",
    "for t in threads:\n",
    "    t.join()\n",
    "\n",
    "print(\"Final counter value:\", counter)  # Usually not 50000!"
   ]
  },
  {
   "cell_type": "markdown",
   "id": "79a5e01b",
   "metadata": {},
   "source": [
    "Let's fix this unexpected behavior using locks"
   ]
  },
  {
   "cell_type": "code",
   "execution_count": null,
   "id": "62ecb28b",
   "metadata": {},
   "outputs": [
    {
     "name": "stdout",
     "output_type": "stream",
     "text": [
      "Final counter value: 50000\n"
     ]
    }
   ],
   "source": [
    "import threading\n",
    "\n",
    "counter = 0\n",
    "lock = threading.Lock()\n",
    "\n",
    "def increment():\n",
    "    global counter\n",
    "    for _ in range(10000):\n",
    "        with lock:\n",
    "            # only one thread at a time can execute this code block\n",
    "            new_value = counter + 1\n",
    "            time.sleep(0)\n",
    "            counter = new_value\n",
    "\n",
    "threads = [threading.Thread(target=increment) for _ in range(5)]\n",
    "\n",
    "for t in threads:\n",
    "    t.start()\n",
    "for t in threads:\n",
    "    t.join()\n",
    "\n",
    "print(\"Final counter value:\", counter)  # Always 50000!"
   ]
  },
  {
   "cell_type": "code",
   "execution_count": null,
   "id": "9767c387",
   "metadata": {},
   "outputs": [],
   "source": []
  },
  {
   "cell_type": "code",
   "execution_count": null,
   "id": "c5ac7244",
   "metadata": {},
   "outputs": [],
   "source": []
  }
 ],
 "metadata": {
  "kernelspec": {
   "display_name": "venv",
   "language": "python",
   "name": "python3"
  },
  "language_info": {
   "codemirror_mode": {
    "name": "ipython",
    "version": 3
   },
   "file_extension": ".py",
   "mimetype": "text/x-python",
   "name": "python",
   "nbconvert_exporter": "python",
   "pygments_lexer": "ipython3",
   "version": "3.12.3"
  }
 },
 "nbformat": 4,
 "nbformat_minor": 5
}
