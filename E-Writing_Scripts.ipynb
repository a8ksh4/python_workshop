{
 "cells": [
  {
   "cell_type": "markdown",
   "metadata": {},
   "source": [
    "# Section E - Writing Scripts / Programs\n",
    "\n",
    "Feedback: https://forms.gle/Le3RAsMEcYqEyswEA\n",
    "\n",
    "**Topics** - Python Editors, Writing and runnig scripts, argparse library\n",
    "\n",
    "So far, we've been working in python notebooks - these are great for workflows or data centered presentations where you want to mix text, code, and graphs/plots and a human will be interacting with it.  \n",
    "\n",
    "But some times we want to make a tool that we can run, maybe part of an automated process, and don't want to see the code to do it.  We can write a script - a text file that the python interpreter runs for us.  \n",
    "\n",
    "**Script** vs **Program** - call it what you want.  Calling something a program implies that it's compiled, or at least that its more complicated than a script.  Python works just as well for short utility scripts as for gigantic programs, but it's not really\n",
    "\\* compiled. In computationaly intensive programs, you might write moudles in C or or another compiled language to handle the cpu-heavy tasks, and call those modules from python, keeping all of the complex program logic in python so that it's more human friendly to work on. \n",
    "\n",
    "\\* *When you run a python .py script, it is converted to a .pyc bytecode file which is executed by the interpreted.  The bytecode is obfuscated, but is trivial to convert back to python code, unlike a truely compiled language.  sometimes you'll see people/companies distribute .pyc files to obfuscate their tools somewhat.*\n",
    "\n",
    "## Installing Python\n",
    "You need to have a python interpreter installed on your computer in order to run a python script. You should **select the option during install to add the interpreter to the system PATH** so that when you open up a cmd or powershell window, you can directly run a .py file with \"python3\" in the shebang line and it just runs, or you can say \"pyhon my_script.py\" and python is in your path so it just works. \n",
    "\n",
    "https://www.python.org/downloads/"
   ]
  },
  {
   "cell_type": "markdown",
   "metadata": {},
   "source": [
    "## Python Editors (IDEs)\n",
    "It's important to use a good editor for writing scripts.  Some features of a good editor include:\n",
    "* Syntax highlighting\n",
    "* Linting - A Linter is a tool that looks at your code for issues like missing variables, misspelled stuff, and any time you diverge from standards and conventions that the rest of the world thinks are a good idea. \n",
    "* You make like for your ide to be able to run your code from the editor and give you the output.  Or you may prefer to run it from a terminal window separately. \n",
    "* Debugging - If you run your code from the editor, you should be able to set breakpoints to pause your script and see what variables are set, etc. \n",
    "\n",
    "A few good ones are:\n",
    "* VS Code\n",
    "* IntelliJ or PyCharm\n",
    "* Atom\n",
    "* Sublime\n",
    "* VIM, NeoVIM, or Emacs (there are more of a Linux thing)"
   ]
  },
  {
   "cell_type": "markdown",
   "metadata": {},
   "source": [
    "#### *Exercise*\n",
    "Open a cmd (windows) or xterm (linux) an try running `python --version` or `python3 --version`.  if you don't have python installed, you'll get an error.  Windows might pop up a windows store page to instal python.  That'll probably work. Install python if you need to and get this working. \n",
    "\n",
    "Install an IDE - I recommend VS Code, but use what you want. The instructions here will all be for VS Code. once installed, go into the extensions menu and search for \"python microsoft\".  Install the \"python\", \"Pylance\", \"Pylint\", \"autopep8\" extensions specifically from microsoft.  You may also like the \"Jupyter\" extension for notebooks. \"Copilot\" is great too, but requires signing up for it at github.com. \n",
    "\n",
    "Make a folder in your home directory for python scripts and open that folder with Code. Use the exploror winodw pane on the left to create a new file caled hello.py.  Add the following to the file and save it (ctrl+s is a shortcut to save):\n",
    "\n",
    "    #! pyhon3\n",
    "\n",
    "    print(\"Hello World!\")\n",
    "\n",
    "Pretty Simple!  Now cd to that directory in your command window and run the script by typing it's name and hitting enter!  You should see the hello world in the cmd window. \n",
    "\n",
    "We can run it from the IDE too.  Use the little triangle in the top right corner of the window to run it and you should see a console pop up on the bottom showing the hello world message. \n",
    "\n",
    "Finally, if you have any hilighted lines in the script indicating issues, try to resolve them.  For example, I see, \"Missing module docstring\" and \"Final newline missing\".  A module docstring is a tripple quoted string at the top of the file, just below the shebang line, that says what the file/module does.  For example:\n",
    "\n",
    "    #! python3\n",
    "    '''Simple hello world test script'''\n",
    "\n",
    "\n"
   ]
  },
  {
   "cell_type": "markdown",
   "metadata": {},
   "source": [
    "## Template for a script"
   ]
  },
  {
   "cell_type": "code",
   "execution_count": null,
   "metadata": {},
   "outputs": [],
   "source": [
    "#!/usr/bin/env python\n",
    "'''Short note about the script/module'''\n",
    "\n",
    "import stuff\n",
    "\n",
    "GLOBAL_VAR = 'foo'\n",
    "\n",
    "def funcDefinition(some, args):\n",
    "    '''foo'''\n",
    "    return 'bar'\n",
    "\n",
    "def main(some, args):\n",
    "    print('Hello, world!')\n",
    "\n",
    "if __name__ == '__main__':\n",
    "    main()"
   ]
  },
  {
   "cell_type": "markdown",
   "metadata": {},
   "source": [
    "**The #! shebang line**\n",
    "\n",
    "Shebang is short for hash bang.  This line says which interpreter to use to run the script. A couple of common entries are:\n",
    "* In linux for python3:\n",
    "  * `#!/usr/bin/env python3`\n",
    "* In windows, this would be common:\n",
    "  * `#! python3`\n",
    "\n",
    "In both cases the system PATH variable will be checked to find the given interpreter. \n",
    "\n",
    "You can also specify the complete path to the interpreter you want to use.  I might do this to make sure it uses a virtual env that I've configured:\n",
    "* `#!/home/my_user/venv/bin/python3`\n",
    "\n",
    "**module description**\n",
    "\n",
    "You can add a short documentation abou the purpose of the script/module below the shebang line. \n",
    "\n",
    "**import statements**\n",
    "\n",
    "They go at the top.\n",
    "\n",
    "**global variables**\n",
    "\n",
    "Things like paths to tools that are called by the script, directories.  Global variables should be in ALL_CAPS with underscores between the words if they are multi-word.  It's common to have a VERBOSE or DEBUG boolean global that's referenced elsewhere do decide whether or not to print debug messages for troubleshooting issues. \n",
    "\n",
    "**function definitions**\n",
    "\n",
    "This is the main body of the script.  It's not uncommon to have a \"main\" function that is the first thing called when the script starts.  You don't have to define any functions if you don't want to. \n",
    "\n",
    "**the if __name__ ... condition**\n",
    "\n",
    "This is something that is important if your script might be used as a module that could be imported by another script or module in order to access your scripts functions and global variables.  If your script is imported, then it's __name__ will not be \"__main__\", but if it is called as a script, it's name will be \"__main__\", so the code below here gets executed. \n",
    "\n",
    "You can also skip this section and just start writing code that will run.  "
   ]
  },
  {
   "cell_type": "markdown",
   "metadata": {},
   "source": [
    "## Helpful Libraries for Scripts\n",
    "\n",
    "### sys\n",
    "The sys module provides access to some variables and functions that interact with the Python interpreter.\n",
    "* **sys.argv** - A list of command-line arguments passed to the script. sys.argv[0] is the script name, and if len(sys.argv) > 1, then it was passed some arguments when it was run. \n",
    "* **sys.exit()** - Exits the program with an optional exit code.  Exit code zero says that everything worked as expected, and non-zero (positive) says there was an error.  You might return different numbers for different errors so if another tool calls your script, it can do something different depending on the exit codes. \n",
    "* sys.stdin, sys.stdout, sys.stderr - File objects corresponding to the interpreter’s standard input, output, and error streams.\n",
    "\n",
    "### os\n",
    "The os module provides a way of interacting with the operating system. These are a few essential functions to view current working dir and change directories; list or remove files and directories; create directories.  \n",
    "\n",
    "* os.getenv() - Retrieves the value of an environment variable.\n",
    "* os.environ - A dictionary representing the environment variables.\n",
    "* os.chdir() - Changes the current working directory.\n",
    "* os.getcwd() - Returns the current working directory.\n",
    "* os.listdir() - Lists the contents of a directory.\n",
    "* os.mkdir() and os.makedirs() - Create directories.\n",
    "* os.remove() and os.rmdir() - Remove files and directories.\n",
    "* os.path - A submodule for working with file and directory paths, providing functions like:\n",
    "  * os.path.join()\n",
    "  * os.path.exists()\n",
    "  * os.path.isfile()\n",
    "  * os.path.isdir().\n",
    "\n",
    "These modules are essential for performing system-level tasks and interacting with the environment in which your Python code is running."
   ]
  },
  {
   "cell_type": "markdown",
   "metadata": {},
   "source": [
    "#### *Exercise*\n",
    "Create a whats_here.py script that does the following:\n",
    "* Prints the current working directory.  This is the directory that the process that called your script has as its CWD. \n",
    "* Gets the current user and saves it to a variable\n",
    "* Make a directory called \"foo\" if it does not exist. \n",
    "* Checks if a file called f\"foo/{current_user}_was_here.txt\" exists and creates it if not.  You should see this in the file explorer and in your command window (run dir foo or ls foo for windows/linux) after it's created. \n",
    "* Change directory to f\"C:/Users/{current_user}/Desktop\" and list out the files here. "
   ]
  },
  {
   "cell_type": "markdown",
   "metadata": {},
   "source": [
    "## Script Arguments and sys.argv\n",
    "Some times we need scripts to take some parameters to change their behavior.  Any arguments you pass to your script when running it get stored in sys.argv so you can check them from the script. This is just like passing arguments to a function. \n",
    "\n",
    "#### *Exercise*\n",
    "Put the following code into a script called \"show_args.py\" and run it with different combinations of arguments passed to it:\n",
    "\n",
    "    #! python3\n",
    "    '''A simple tool to see what arguments are set when running.'''\n",
    "    import sys\n",
    "\n",
    "    VERBOSE = False\n",
    "\n",
    "    if '-v' in sys.argv or '--verbose' in sys.argv:\n",
    "        print('Verbose is set, so I will give detailed messages about what is happening.)\n",
    "        VERBOSE = True\n",
    "\n",
    "    for n, arg in enumerate(sys.argv):\n",
    "        if n == 0:\n",
    "            print(f\"The name of the script is: {arg}\")\n",
    "        else:\n",
    "            print(f'arg {n} is: {arg})\n",
    "        if VERBOSE:\n",
    "            print(f\"This arg was {len(arg)} characters long!\")\n",
    "    \n",
    "    if VERBOSE:\n",
    "        print(\"Number of args received:\", len(sys.argv) - 1)\n",
    "\n",
    "For example, you could run:  `show_args.py foo bar omg-wow`\n",
    "\n",
    "For 10 points extra credit, you can make the following modification to the args script: Check if each arg has an '=' character in it.  If an = is present, split the arg on the = to keg a key=value pair and assign it to an args_kv dictionary.  Then print all of the key value pair given in addition to the other non-kv arguments. \n",
    "\n",
    "And for an additional 5 points extra credit, handle all of the argument checkin in a function called checkArguments() which returns a tuple with args and args_kv.  The function should not print anything.  The script should call the function, save the return values, and then print a summary. "
   ]
  },
  {
   "cell_type": "markdown",
   "metadata": {},
   "source": [
    "## Argparse\n",
    "The previous exercise hopefully proved that we can simply pass data into a script and check for it, but a really high quality script is able to also provide documentaion about what it does, what arguments are allowed, verify that correct arguments are given and that the values set with them are valid, and return them all in a simple data structure that can be used by the script.  It would require a lot of code to do this ourselves, so thankfully we have the \"argparse\" library.  \n",
    "\n",
    "Argparse lets you define what arguments the script accepts, say which of them are required, if any, set default values, set required data types, etc etc.  You can find documentation for it here: https://docs.python.org/3/library/argparse.html\n",
    "\n",
    "Here's an example script utilizing argparse:"
   ]
  },
  {
   "cell_type": "markdown",
   "metadata": {},
   "source": [
    "## Logging"
   ]
  }
 ],
 "metadata": {
  "kernelspec": {
   "display_name": "venv",
   "language": "python",
   "name": "python3"
  },
  "language_info": {
   "codemirror_mode": {
    "name": "ipython",
    "version": 3
   },
   "file_extension": ".py",
   "mimetype": "text/x-python",
   "name": "python",
   "nbconvert_exporter": "python",
   "pygments_lexer": "ipython3",
   "version": "3.11.6"
  }
 },
 "nbformat": 4,
 "nbformat_minor": 2
}
