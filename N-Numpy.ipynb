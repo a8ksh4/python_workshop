{
 "cells": [
  {
   "cell_type": "markdown",
   "metadata": {},
   "source": [
    "# Section N - Numpy\n",
    "\n",
    "Feedback: https://forms.gle/Le3RAsMEcYqEyswEA\n",
    "\n",
    "Numpy is the library that pandas and many other scientific and big-data python libraries are built on.  It provides support for arrays (especially multi-dimensional arrays or \"ndarrays\") and a large collection of mathematical functions to operate on these arrays efficiently. Key features of NumPy include:\n",
    "\n",
    "* **N-dimensional Arrays (ndarray):** NumPy offers a data structure for working with large multi-dimensional arrays and matrices, which are more efficient than Python's built-in lists for numerical operations.\n",
    "* **Mathematical Functions:** It provides a wide range of mathematical functions (like trigonometric, statistical, and algebraic functions) that operate on entire arrays at once, making code more concise and faster.\n",
    "* **Vectorization / Broadcasting:** NumPy allows vectorized operations, meaning that operations on arrays are applied element-wise without the need for explicit loops, avoiding unnecessary copies, leading to more readable, memory efficient, and faster code.\n",
    "* **Integration with Other Libraries:** Many scientific libraries, such as SciPy, pandas, and matplotlib, rely on NumPy for array operations.\n",
    "* **Efficiency:** NumPy is implemented in C, which makes it highly efficient for performing large-scale computations compared to Python's native lists.\n",
    "\n",
    "Overall, NumPy is a cornerstone of scientific computing in Python, making it essential for tasks involving data analysis, machine learning, simulations, and other numerical applications.\n",
    "\n",
    "Let's do a simple example comparing addition of numbers in two lists/arrays in native Python vs Numpy:"
   ]
  },
  {
   "cell_type": "code",
   "execution_count": 1,
   "metadata": {},
   "outputs": [
    {
     "name": "stdout",
     "output_type": "stream",
     "text": [
      "listc: [5, 7, 9, 11, 13]\n",
      "listc: [ 5  7  9 11 13]\n"
     ]
    }
   ],
   "source": [
    "# Regular python\n",
    "lista = range(5)\n",
    "listb = range(5, 10)\n",
    "listc = [a + b for a, b in zip(lista, listb)]\n",
    "print('listc:', listc)\n",
    "\n",
    "# Using numpy\n",
    "import numpy as np\n",
    "lista = np.arange(5)\n",
    "listb = np.arange(5, 10)\n",
    "listc = lista + listb\n",
    "print('listc:', listc)"
   ]
  },
  {
   "cell_type": "markdown",
   "metadata": {},
   "source": [
    "## Numpy Basics\n",
    "It is typical to import numpy as \"np\".  Numpy has a few functions for creating numpy arrays of one or more dimmensions:\n",
    "\n",
    "    np.array([1, 2, 3, 4])  # convert python list to np array \n",
    "    np.zeros((3, 5))        # 3x5 matrix of zeros\n",
    "    np.ones((2, 4))         # 2x4 matrix of ones\n",
    "    np.arange(0, 10, 2)     # Numbers from 0 to 10 with a step of 2\n",
    "    np.linspace(0, 1, 5)    # 5 numbers evenly spaced between 0 and 1\n",
    "\n",
    "So we can convert lists to np array, we can make arrays of ones or zeros, or generate ranges of numbers.\n",
    "\n",
    "#### *Exercise*:\n",
    "Let's create and print a few arrays to see what they look like:\n",
    "* Use np.zeros to make arrays of one, two, and three dimmensions:\n",
    "  * (3)\n",
    "  * (3, 4)\n",
    "  * (3, 4, 5)\n",
    "* An array with the numbers 0 through 9, stepping by 1 - ten total numbers.\n",
    "* An array with the numbers 10 through 100, stepping by 10 - ten total numbers.\n",
    "* An array of 20 numbers spaced equally from 10 to 15. \n",
    "* A 5x5 array with the following values of col_number * pow(5, row_num) in each row:\n",
    "  * 0, 1, 2, ...\n",
    "  * 0, 5, 10, ...\n",
    "  * 0, 25, 125, ...\n",
    "  * ...\n",
    "  * ..."
   ]
  },
  {
   "cell_type": "code",
   "execution_count": null,
   "metadata": {},
   "outputs": [],
   "source": []
  },
  {
   "cell_type": "markdown",
   "metadata": {},
   "source": [
    "## Array indexing and Slicing\n",
    "We can print or set elements of arrays, or ranges of elements of arrays:\n",
    "* First element: `arr[0]`\n",
    "* Last element: `arr[-1]`\n",
    "* Elements 1 through 3: `arr[1:4]`\n",
    "\n",
    "Multi-dimmensional arrays have each dimmensino separated by a comma, and can use the same method of referring to a single element or a slice with a colon:\n",
    "* First element of first element in a 2d array:  `arr[0, 0]`\n",
    "* First four elements of the second element of an array:  `arr[:4, 1]`\n",
    "\n",
    "Let's look at a 1, 2, and 3 dimmensional array:"
   ]
  },
  {
   "cell_type": "code",
   "execution_count": 6,
   "metadata": {},
   "outputs": [],
   "source": [
    "arr_1d = np.array([1, 2, 3])\n",
    "arr_2d = np.array([[1, 2, 3], [4, 5, 6]])\n",
    "arr_3d = np.array([[[1, 2, 3], [4, 5, 6]], [[7, 8, 9], [10, 11, 12]]])"
   ]
  },
  {
   "cell_type": "markdown",
   "metadata": {},
   "source": [
    "#### *Exercise*:\n",
    "* What shape is each of these arrays?\n",
    "* Print the firstt element of each of the arrays. Notice anything interesting? \n",
    "* Print just 3 in each of the arrays.\n",
    "* Set the 3 in each of the arrays to 99\n",
    "* Print the first to values of the first item in the second item ni the 3d array.  \n",
    "* Create a 1D array of numbers from 10 to 20 and extrace a slice containing the numbers [12, 13, 14]"
   ]
  },
  {
   "cell_type": "code",
   "execution_count": null,
   "metadata": {},
   "outputs": [],
   "source": []
  },
  {
   "cell_type": "markdown",
   "metadata": {},
   "source": [
    "## Array Operations\n",
    "\n",
    "**Basic Arithmetic Operations:**\n",
    "\n",
    "    arr = np.array([1, 2, 3, 4])\n",
    "    print(arr + 2)  # Add 2 to every element\n",
    "    print(arr * 3)  # Multiply every element by 3\n",
    "\n",
    "**Element-wise Operations:**\n",
    "\n",
    "    arr1 = np.array([1, 2, 3])\n",
    "    arr2 = np.array([4, 5, 6])\n",
    "    print(arr1 + arr2)  # Add corresponding elements\n",
    "\n",
    "#### *Exescise*:\n",
    "Create two arrays of the same size, one with even numbers and one with odd numbers. Perform addition and multiplication on these arrays."
   ]
  },
  {
   "cell_type": "code",
   "execution_count": null,
   "metadata": {},
   "outputs": [],
   "source": []
  },
  {
   "cell_type": "markdown",
   "metadata": {},
   "source": [
    "## Mathematical Functions and Axis\n",
    "\n",
    "Numpy has some useful functions built in:\n",
    "\n",
    "    np.sum(), np.mean(), np.max(), np.min(), np.std()\n",
    "\n",
    "These each will apply to an entire array if called without any arguments, but can also be given an axis to work against if, for example, you wanted to see the sum of each row or column in a 2d array.\n",
    "\n",
    "https://numpy.org/doc/stable/reference/generated/numpy.sum.html"
   ]
  },
  {
   "cell_type": "code",
   "execution_count": null,
   "metadata": {},
   "outputs": [],
   "source": [
    "arr = np.array([[0, 1], [2, 3]])\n",
    "sum_all = arr.sum()\n",
    "sum_rows = arr.sum(axis=1)\n",
    "sum_cols = arr.sum(axis=0)\n",
    "# sum_coles = np.sum(arr, axis=0)  # this is equivalent to the previous line\n",
    "\n",
    "print('arr:', arr)\n",
    "print('sum_all:', sum_all)\n",
    "print('sum_rows:', sum_rows)\n",
    "print('sum_cols:', sum_cols)"
   ]
  },
  {
   "cell_type": "markdown",
   "metadata": {},
   "source": [
    "Notice that sum_rows and sum_cols are each 1 dimensinoal arrays. Check the values in sum_rows and sum_cols to verify which numbers in the original array they came from.\n",
    "\n",
    "The idea of rows and columns sort of breaks down when we have 3 or more dimmensions/axis in our array.  Numpy really contrasts with pandas in this regard.  Pandas has very clear rows and columns and is limited to two dimmensinal data, but numpy is more abstract and it's better to pay attention to which axis number is which in an array rather than thinking in rows/cols. \n",
    "\n",
    "#### *Exercise*:\n",
    "Create a 3d array similar to the above 2d array that contains the values 4 through 7 \n",
    "* What shape is this array?\n",
    "* Sum values on eac of the three axis.  You shuold see some values correspond with the sums in the above example, and have some new values on axis 0 and 1.  Axis 2 is all new. Think about which axix is which, counting outward from the sets of [ ] that contain the numbers in the array. \n",
    "* Sum the values on multiple axis.  E.g. array.sum(axis=(1,2)).  What's happening when you do this?  What combination of axis will include the value \"6\" that we saw in \"sum_all\" from the above 2d array example?"
   ]
  },
  {
   "cell_type": "code",
   "execution_count": null,
   "metadata": {},
   "outputs": [],
   "source": []
  },
  {
   "cell_type": "markdown",
   "metadata": {},
   "source": [
    "## Reshaping and Transposing Arrays\n",
    "\n",
    "A numpy array is just a block of memory of a size large enough to hold all of the values of our chosen data type in the quantity of the cells per the size of the array in all dimmensions.  So a 2 x 3 x 4 array of four-byte float values would be 24 x 4 bytes.  The values are consecutive, so there is really no difference between:\n",
    "\n",
    "* A 24 cell, single dimmensional, array\n",
    "* A 6 x 4 array (24 cells)\n",
    "* A 2 x 2 x 2 x 3 array (24 cells)\n",
    "\n",
    "Aside from the metadata describing the shape of the array.  Thes means that we can do stuff like generate a sequence and then **reshape** it into a multi-dimmensional array like we were doing manually above."
   ]
  },
  {
   "cell_type": "code",
   "execution_count": null,
   "metadata": {},
   "outputs": [],
   "source": [
    "arr = np.arange(24)\n",
    "print('arr:', arr)\n",
    "arr = arr.reshape(6, 4)\n",
    "print('arr:', arr)"
   ]
  },
  {
   "cell_type": "markdown",
   "metadata": {},
   "source": [
    "We can transpose data with the .T operator.  This flips the data so rows become columns and columns become rows.  Here's an example using the above 6x4 array:"
   ]
  },
  {
   "cell_type": "code",
   "execution_count": null,
   "metadata": {},
   "outputs": [],
   "source": [
    "arr = arr.T\n",
    "print('arr:', arr)\n",
    "arr = arr.reshape(24)\n",
    "print('arr:', arr)"
   ]
  },
  {
   "cell_type": "markdown",
   "metadata": {},
   "source": [
    "So arr changes from 6 x 4 to 4 x 6, and when we reshape it back to a 1d array, we can see how the values have been shuffuled from the transpose operation. \n",
    "\n",
    "#### *Exercise*\n",
    "* Create a 3 x 3 array with values 0 through 8. \n",
    "* Check the mean on axis 0.\n",
    "* Transpose the array and verify that the mean on axis 1 matches what we had originally on axis 0. "
   ]
  },
  {
   "cell_type": "code",
   "execution_count": null,
   "metadata": {},
   "outputs": [],
   "source": []
  },
  {
   "cell_type": "markdown",
   "metadata": {},
   "source": [
    "## Broadcasting\n",
    "\n",
    "This term, \"broadcasting\" describes how numpy handles numerical operations between arrays of different shapes.  We use it to avoid looping on on operations in python and instead do it in C via numpy's functionality. Any time we add, multiply, etc an array, we're using this functionality.  We'll cover the basict, but there are loads of examples in the official documentation:\n",
    "\n",
    "https://numpy.org/devdocs/user/basics.broadcasting.html\n",
    "\n",
    "When looking at the shape of two arrays to be broadcast, we have the following conditions on the right-most dimmension(s) of the arrays:\n",
    "\n",
    "* they must be equal\n",
    "* one of them must be 1\n",
    "\n",
    "Let's look at an example where we multiply a (3x3) array with a sequence of 0-8 in it, and we multiply it by 4.  We print four instances of this which have an equivelant result:"
   ]
  },
  {
   "cell_type": "code",
   "execution_count": null,
   "metadata": {},
   "outputs": [],
   "source": [
    "arr = np.arange(9).reshape(3, 3)\n",
    "print('arr - shape (3x3):\\n', \n",
    "            arr)\n",
    "print('arr * 3 - shapes (3x3) and (1):\\n', \n",
    "            arr * 4)\n",
    "print('arr * [3] - shapes (3x3) and (1):\\n', \n",
    "            arr * np.array([4]))\n",
    "print('arr * [3, 3, 3] - shapes (3x3) and (3):\\n', \n",
    "            arr * np.array([4, 4, 4]))\n",
    "print('arr * [[3, 3,3], [3...], []] - shapes (3x3) and (3x3):\\n', \n",
    "            arr * np.array([[4, 4, 4], [4, 4, 4], [4, 4, 4]]))"
   ]
  },
  {
   "cell_type": "markdown",
   "metadata": {},
   "source": [
    "Let's try a slight modification of this and broadcast a (3x3) array of ones into a (3) 1d array of [0, 1, 2].  The 1d array is broadcast across the 3x3.  "
   ]
  },
  {
   "cell_type": "code",
   "execution_count": null,
   "metadata": {},
   "outputs": [],
   "source": [
    "arr = np.ones((3, 3))\n",
    "print('arr:\\n', arr)\n",
    "arr = arr * np.arange(3)\n",
    "print('arr * [0, 1, 2]:\\n', arr)\n",
    "arr = arr.T * np.arange(3)\n",
    "print('arr.T * [0, 1, 2]:\\n', arr)\n"
   ]
  },
  {
   "cell_type": "markdown",
   "metadata": {},
   "source": [
    "#### *Exercise*:\n",
    "Try to add a (3x3) array to each of the following shape arrays: \n",
    "* (1), (2), (3)\n",
    "* (1x3), (3x1), (2x3), (3x2)?, (3x3), (3x3x3)?\n",
    "\n",
    "I'd suggest using np.ones and np.arange with .shape to make arrays of each shape.  What're the differences between (3), (1x3), and (3x1) arrays?"
   ]
  },
  {
   "cell_type": "code",
   "execution_count": null,
   "metadata": {},
   "outputs": [],
   "source": []
  },
  {
   "cell_type": "markdown",
   "metadata": {},
   "source": [
    "## Accelerating Numpy\n",
    "If you have an Nvidia GPU, you can install Cuda and the python \"cupy\" library.  It is almost a drop in replacement for numpy and can greatly accelerate large data operations.  It's a little different from regular numpy in that you need to be aware of whether the array you're working on is stored in the GPU (cupy array) or on the system/CPU memory (numpy arrray) and copy the array between CPU and GPU depending on needs of the other libraries that need to use it. \n",
    "\n",
    "Here's a simple bit of code to compare numpy and cupy performance on your system:"
   ]
  },
  {
   "cell_type": "code",
   "execution_count": null,
   "metadata": {},
   "outputs": [],
   "source": [
    "import gc\n",
    "import time\n",
    "import cupy as cp\n",
    "import numpy as np\n",
    "\n",
    "start_time = time.time()\n",
    "# Create a sample array\n",
    "gpu_array = cp.random.uniform(0, 1, (500000000,))\n",
    "cp.cuda.Stream.null.synchronize()  # Synchronize to ensure the transfer completes\n",
    "gpu_time = time.time()\n",
    "\n",
    "# Transfer to CPU and back to GPU\n",
    "cpu_array = cp.asnumpy(gpu_array)\n",
    "# cpu_array = np.array(gpu_array.get())\n",
    "cp.cuda.Stream.null.synchronize()\n",
    "cpu_time = time.time()\n",
    "\n",
    "gpu_array_back = cp.array(cpu_array)\n",
    "cp.cuda.Stream.null.synchronize()\n",
    "gpu_back_time = time.time()\n",
    "\n",
    "# Compare values on GPU\n",
    "gpu_consistent = cp.allclose(gpu_array, gpu_array_back)\n",
    "cp.cuda.Stream.null.synchronize()\n",
    "gpu_consistent_time = time.time()\n",
    "\n",
    "# Compare values on CPU\n",
    "cpu_consistent = np.allclose(gpu_array.get(), gpu_array_back.get())\n",
    "cp.cuda.Stream.null.synchronize()\n",
    "cpu_consistent_time = time.time()\n",
    "\n",
    "print(f\"Time to init in GUP: {gpu_time - start_time:.6f} seconds\")\n",
    "print(f\"Time to transfer from GPU to CPU: {cpu_time - gpu_time:.6f} seconds\")\n",
    "print(f\"Time to transfer from CPU to GPU: {gpu_back_time - cpu_time:.6f} seconds\")\n",
    "print(f\"Time to check consistency on GPU: {gpu_consistent_time - gpu_back_time:.6f} seconds\")\n",
    "print(f\"Time to check consistency on CPU: {cpu_consistent_time - gpu_consistent_time:.6f} seconds\")\n",
    "\n",
    "print(f\"Via GPU - transfer consistency: {gpu_consistent}\")  # Should print True\n",
    "print(f\"Via CPU - transfer consistency: {cpu_consistent}\")  # Should print True"
   ]
  },
  {
   "cell_type": "markdown",
   "metadata": {},
   "source": [
    "## Practice Problems:\n",
    "\n",
    "**Advanced Slicing:**\n",
    "\n",
    "Given a 4x4 matrix, extract:\n",
    "* The main diagonal.\n",
    "* The lower-left 2x2 block.\n",
    "\n",
    "**Array Manipulation Challenge:**\n",
    "\n",
    "Create an array of size 20 with random integers between 1 and 100. Reshape the array into a 5x4 matrix and sort each row.\n",
    "\n",
    "**Data Analysis:**\n",
    "\n",
    "Given two 1D arrays representing time (in hours) and distance (in km) from a running event, calculate the average speed at each time point using NumPy.\n",
    "\n",
    "**Game of life:**\n",
    "\n",
    "This is a very involved project... implement Conway's Game of Life (https://en.wikipedia.org/wiki/Conway%27s_Game_of_Life) in numpy.  Create a board of 20x20 cells with a randomized values of 0 or 1. \"1\" is alive, and \"0\" is dead.\n",
    "\n",
    "Iteratively apply the rules of GoL to increment the state of the board:\n",
    "* Any live cell with fewer than two live neighbours dies, as if by underpopulation.\n",
    "* Any live cell with two or three live neighbours lives on to the next generation.\n",
    "* Any live cell with more than three live neighbours dies, as if by overpopulation.\n",
    "* Any dead cell with exactly three live neighbours becomes a live cell, as if by reproduction.\n",
    "\n",
    "You can print the board at each step to see its progression, or you can plot it as a heatmap, or some other method to visualize it."
   ]
  },
  {
   "cell_type": "markdown",
   "metadata": {},
   "source": []
  }
 ],
 "metadata": {
  "kernelspec": {
   "display_name": ".venv",
   "language": "python",
   "name": "python3"
  },
  "language_info": {
   "codemirror_mode": {
    "name": "ipython",
    "version": 3
   },
   "file_extension": ".py",
   "mimetype": "text/x-python",
   "name": "python",
   "nbconvert_exporter": "python",
   "pygments_lexer": "ipython3",
   "version": "3.10.12"
  }
 },
 "nbformat": 4,
 "nbformat_minor": 2
}
